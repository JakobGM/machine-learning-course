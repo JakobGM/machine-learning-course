{
 "cells": [
  {
   "cell_type": "code",
   "execution_count": 3,
   "metadata": {},
   "outputs": [],
   "source": [
    "%load_ext autoreload\n",
    "%autoreload 2"
   ]
  },
  {
   "cell_type": "markdown",
   "metadata": {},
   "source": [
    "# Santander Customer Transaction Prediction\n",
    "\n",
    "## General Information\n",
    "\n",
    "The Kaggle competition site can be found [here](https://www.kaggle.com/c/santander-customer-transaction-prediction).\n",
    "\n",
    "## Importing python packages\n",
    "\n",
    "We will use the common SciPy stack, `numpy`, `pandas`, `scikit-learn`, etc."
   ]
  },
  {
   "cell_type": "code",
   "execution_count": 88,
   "metadata": {},
   "outputs": [],
   "source": [
    "from IPython.display import Markdown, display\n",
    "\n",
    "import matplotlib as mpl\n",
    "from matplotlib import pyplot as plt\n",
    "\n",
    "import numpy as np\n",
    "\n",
    "import pandas as pd"
   ]
  },
  {
   "cell_type": "markdown",
   "metadata": {},
   "source": [
    "## Configuration\n",
    "\n",
    "Set some common `matplotlib` preferences:"
   ]
  },
  {
   "cell_type": "code",
   "execution_count": 95,
   "metadata": {},
   "outputs": [],
   "source": [
    "%matplotlib inline\n",
    "plt.style.use(\"ggplot\")\n",
    "mpl.rcParams[\"figure.figsize\"] = (8, 8)"
   ]
  },
  {
   "cell_type": "markdown",
   "metadata": {},
   "source": [
    "## Importing the dataset\n",
    "\n",
    "Read the `.csv` files, but apply the columns of the large dataset to the small train dataset, as it does not include column headers."
   ]
  },
  {
   "cell_type": "code",
   "execution_count": 60,
   "metadata": {},
   "outputs": [],
   "source": [
    "train_large = pd.read_csv(\"data/train.csv\")\n",
    "test_large = pd.read_csv(\"data/test.csv\")\n",
    "\n",
    "test_small = pd.read_csv(\"data/test_small.csv\")\n",
    "train_small = pd.read_csv(\n",
    "    \"data/train_small.csv\",\n",
    "    names=train_large.columns,\n",
    "    header=None,\n",
    "    index_col=False,\n",
    ")"
   ]
  },
  {
   "cell_type": "markdown",
   "metadata": {},
   "source": [
    "# EDA\n",
    "\n",
    "Let's start by checking if the small training set is a proper subset of the large training set."
   ]
  },
  {
   "cell_type": "code",
   "execution_count": 10,
   "metadata": {},
   "outputs": [],
   "source": [
    "assert len(train_large.merge(train_small)) == len(train_small)"
   ]
  },
  {
   "cell_type": "markdown",
   "metadata": {},
   "source": [
    "Yes, it is. Therefore, if we conclude that the large dataset does not contain duplicates, null values, etc., the same conclusion should hold for the small training set. We will use this fact in order to draw conclusions for both datasets in a lot of cases.\n",
    "\n",
    "## What data do we have?\n",
    "\n",
    "What columns do we actually have?"
   ]
  },
  {
   "cell_type": "code",
   "execution_count": 18,
   "metadata": {},
   "outputs": [
    {
     "data": {
      "text/plain": [
       "Index(['ID_code', 'target', 'var_0', 'var_1', 'var_2', 'var_3', 'var_4',\n",
       "       'var_5', 'var_6', 'var_7',\n",
       "       ...\n",
       "       'var_190', 'var_191', 'var_192', 'var_193', 'var_194', 'var_195',\n",
       "       'var_196', 'var_197', 'var_198', 'var_199'],\n",
       "      dtype='object', length=202)"
      ]
     },
     "execution_count": 18,
     "metadata": {},
     "output_type": "execute_result"
    }
   ],
   "source": [
    "train_large.columns"
   ]
  },
  {
   "cell_type": "markdown",
   "metadata": {},
   "source": [
    "And what datatypes are they?"
   ]
  },
  {
   "cell_type": "code",
   "execution_count": 19,
   "metadata": {},
   "outputs": [
    {
     "data": {
      "text/plain": [
       "ID_code     object\n",
       "target       int64\n",
       "var_0      float64\n",
       "var_1      float64\n",
       "var_2      float64\n",
       "            ...   \n",
       "var_195    float64\n",
       "var_196    float64\n",
       "var_197    float64\n",
       "var_198    float64\n",
       "var_199    float64\n",
       "Length: 202, dtype: object"
      ]
     },
     "execution_count": 19,
     "metadata": {},
     "output_type": "execute_result"
    }
   ],
   "source": [
    "train_large.dtypes"
   ]
  },
  {
   "cell_type": "markdown",
   "metadata": {},
   "source": [
    "The `ID_code` is probobaly an unique identifier for each row."
   ]
  },
  {
   "cell_type": "code",
   "execution_count": 22,
   "metadata": {},
   "outputs": [
    {
     "data": {
      "text/plain": [
       "True"
      ]
     },
     "execution_count": 22,
     "metadata": {},
     "output_type": "execute_result"
    }
   ],
   "source": [
    "train_large.ID_code.is_unique"
   ]
  },
  {
   "cell_type": "markdown",
   "metadata": {},
   "source": [
    "Yes, it is in fact an unique string, here are examples for both datasets."
   ]
  },
  {
   "cell_type": "code",
   "execution_count": 25,
   "metadata": {},
   "outputs": [
    {
     "data": {
      "text/plain": [
       "(0    train_0\n",
       " 1    train_1\n",
       " 2    train_2\n",
       " 3    train_3\n",
       " 4    train_4\n",
       " Name: ID_code, dtype: object, 0    train_1\n",
       " 1    train_2\n",
       " 2    train_4\n",
       " 3    train_5\n",
       " 4    train_6\n",
       " Name: ID_code, dtype: object)"
      ]
     },
     "execution_count": 25,
     "metadata": {},
     "output_type": "execute_result"
    }
   ],
   "source": [
    "train_large.ID_code[0:5], train_small.ID_code[0:5]"
   ]
  },
  {
   "cell_type": "markdown",
   "metadata": {},
   "source": [
    "The `target` column is probably our binary `0`/`1` classification label:"
   ]
  },
  {
   "cell_type": "code",
   "execution_count": 30,
   "metadata": {},
   "outputs": [
    {
     "data": {
      "text/plain": [
       "True"
      ]
     },
     "execution_count": 30,
     "metadata": {},
     "output_type": "execute_result"
    }
   ],
   "source": [
    "train_large.target.isin([0, 1]).all()"
   ]
  },
  {
   "cell_type": "markdown",
   "metadata": {},
   "source": [
    "Yes, all the values of `target` are `0`/`1` encoded. The remaining columns are features named `var_0`, `var_1`, ..., `var_199`, all of them floating point values, 200 of them to be precise. Let's make sure that this is correct:"
   ]
  },
  {
   "cell_type": "code",
   "execution_count": 213,
   "metadata": {},
   "outputs": [],
   "source": [
    "features = train_large.columns[2:]\n",
    "assert len(features) == 200\n",
    "assert (train_large.dtypes[2:] == \"float64\").all()"
   ]
  },
  {
   "cell_type": "markdown",
   "metadata": {},
   "source": [
    "Yes, this is correct. One of the problems with this dataset is that the underlying source of these features are unknown, they are a completely black box. Attaining domain knowledge about these features will therefore be more difficult than if we had known the underlying meaning of these variables.\n",
    "\n",
    "Before we take a look at the number of observations, it is first nice to look at how many missing values we have in order to make the correct conclusions regarding the \"real\" size of the dataset."
   ]
  },
  {
   "cell_type": "markdown",
   "metadata": {},
   "source": [
    "## Missing values\n",
    "\n",
    "Let's find out if we have any missing values in the form of `NaN`s."
   ]
  },
  {
   "cell_type": "code",
   "execution_count": 11,
   "metadata": {},
   "outputs": [],
   "source": [
    "assert not train_large.isnull().values.any()\n",
    "assert not test_large.isnull().values.any()\n",
    "assert not test_small.isnull().values.any()"
   ]
  },
  {
   "cell_type": "markdown",
   "metadata": {},
   "source": [
    "We have no null values whatsoever in any of the datasets, so we need not concern ourselfes with _missing_ values at the moment.\n",
    "There is a chance that missing values are not indicated as `NaN`s in the dataset, however, but rather with a placeholder value within the `float64` domain. We will look out for such a possibility in the upcoming EDA to find out if this is the case.\n",
    "\n",
    "## Size of datasets\n",
    "\n",
    "Now let's look at how large the datasets are, starting by number of observations."
   ]
  },
  {
   "cell_type": "code",
   "execution_count": 63,
   "metadata": {},
   "outputs": [
    {
     "data": {
      "text/markdown": [
       "* The number of observations in the **small training set** is: **70057**"
      ],
      "text/plain": [
       "<IPython.core.display.Markdown object>"
      ]
     },
     "metadata": {},
     "output_type": "display_data"
    },
    {
     "data": {
      "text/markdown": [
       "* The number of observations in the **small test set** is: **70065**"
      ],
      "text/plain": [
       "<IPython.core.display.Markdown object>"
      ]
     },
     "metadata": {},
     "output_type": "display_data"
    },
    {
     "data": {
      "text/markdown": [
       "* The number of observations in the **large training set** is: **200000**"
      ],
      "text/plain": [
       "<IPython.core.display.Markdown object>"
      ]
     },
     "metadata": {},
     "output_type": "display_data"
    },
    {
     "data": {
      "text/markdown": [
       "* The number of observations in the **large test set** is: **200000**"
      ],
      "text/plain": [
       "<IPython.core.display.Markdown object>"
      ]
     },
     "metadata": {},
     "output_type": "display_data"
    }
   ],
   "source": [
    "datasets = {\n",
    "    \"small training\": train_small,\n",
    "    \"small test\": test_small,\n",
    "    \"large training\": train_large,\n",
    "    \"large test\": test_large,\n",
    "}\n",
    "for name, dataset in datasets.items():\n",
    "    display(Markdown(f\"* The number of observations in the **{name} set** is: **{len(dataset)}**\"))"
   ]
  },
  {
   "cell_type": "markdown",
   "metadata": {},
   "source": [
    "We have a 50/50 split of train vs test data, the smaller dataset being 35% of the larger dataset."
   ]
  },
  {
   "cell_type": "markdown",
   "metadata": {},
   "source": [
    "## Check covariate vector uniqueness\n",
    "\n",
    "Since `var_0`, ..., `var_199` are floating point values, it is unlikely that there are non-unique feature vectors in the dataset, but we should make sure anyway, just in case."
   ]
  },
  {
   "cell_type": "code",
   "execution_count": 70,
   "metadata": {},
   "outputs": [
    {
     "data": {
      "text/plain": [
       "False"
      ]
     },
     "execution_count": 70,
     "metadata": {},
     "output_type": "execute_result"
    }
   ],
   "source": [
    "train_large.iloc[:, 2:].duplicated(subset=None, keep=False).any()"
   ]
  },
  {
   "cell_type": "markdown",
   "metadata": {},
   "source": [
    "We have no **exact** duplicates, but remember that we could have extremely identical rows and this test would not capture this. We will come back to this issue."
   ]
  },
  {
   "cell_type": "markdown",
   "metadata": {},
   "source": [
    "## Check single covariate uniqueness\n",
    "\n",
    "How unique are these floating point features when we look at one and one feature at a time?\n",
    "Let's take a quick look:"
   ]
  },
  {
   "cell_type": "code",
   "execution_count": 145,
   "metadata": {},
   "outputs": [],
   "source": [
    "unique_large_train = []\n",
    "unique_small_train = []\n",
    "\n",
    "for covariate in range(2, 202):\n",
    "    unique_large_train.append(len(train_large.iloc[:, covariate].drop_duplicates())/len(train_large))\n",
    "    unique_small_train.append(len(train_small.iloc[:, covariate].drop_duplicates())/len(train_small))\n",
    "    \n",
    "unique_large_train = np.array(unique_large_train)\n",
    "unique_small_train = np.array(unique_small_train)"
   ]
  },
  {
   "cell_type": "code",
   "execution_count": 154,
   "metadata": {},
   "outputs": [
    {
     "data": {
      "image/png": "[encoded data removed]",
      "text/plain": [
       "<Figure size 1152x576 with 2 Axes>"
      ]
     },
     "metadata": {},
     "output_type": "display_data"
    }
   ],
   "source": [
    "fig, (ax1, ax2) = plt.subplots(2, 1, figsize=(16, 8), sharex=True)\n",
    "\n",
    "ax1.set_title(\"Large Training Set\")\n",
    "ax2.set_title(\"Small Training Set\");\n",
    "\n",
    "ax1.set_ylabel(\"Unique fraction\")\n",
    "ax2.set_ylabel(\"Unique fraction\")\n",
    "ax2.set_xlabel(\"Covariate\")\n",
    "\n",
    "ax1.set_ylim(0, 1)\n",
    "ax2.set_ylim(0, 1)\n",
    "\n",
    "ax1.bar(x=range(0, 200), height=unique_large_train, width=0.75);\n",
    "ax2.bar(x=range(0, 200), height=unique_small_train, width=0.75);"
   ]
  },
  {
   "cell_type": "markdown",
   "metadata": {},
   "source": [
    "There is actually a surprising amount of _exact duplication_ column-wise, even when the features are floats. The likelihood for this in a theoretical, continuous, statistical distribution is zero, but in practice (due to data-entry rounding and floating point precisios) it is not a too shocking revelation.\n",
    "\n",
    "Let's investigate this further by plotting the histogram of the least unique covariate besides the histogram of the most unique covariate."
   ]
  },
  {
   "cell_type": "code",
   "execution_count": 178,
   "metadata": {},
   "outputs": [
    {
     "data": {
      "image/png": "[encoded data removed]",
      "text/plain": [
       "<Figure size 1152x576 with 2 Axes>"
      ]
     },
     "metadata": {},
     "output_type": "display_data"
    }
   ],
   "source": [
    "fig, (ax1, ax2) = plt.subplots(1, 2, figsize=(16, 8))\n",
    "fig.suptitle(\"Large Dataset\")\n",
    "\n",
    "least_unique = np.argmin(unique_large_train)\n",
    "train_large.iloc[:, least_unique + 2].plot.hist(bins=1000, ax=ax1)\n",
    "ax1.set_title(f\"Least unique: var_{least_unique}\")\n",
    "\n",
    "most_unique = np.argmax(unique_large_train)\n",
    "train_large.iloc[:, most_unique + 2].plot.hist(bins=1000, ax=ax2)\n",
    "ax2.set_title(f\"Most unique: var_{most_unique}\");"
   ]
  },
  {
   "cell_type": "markdown",
   "metadata": {},
   "source": [
    "We can see that the \"non-uniqueness\" of `var_68` is not necessarily a problem, the values seem to be somewhat discretized, but it still has a distinct distribution. The same conclusion should hold for the smaller dataset."
   ]
  },
  {
   "cell_type": "code",
   "execution_count": 179,
   "metadata": {},
   "outputs": [
    {
     "data": {
      "image/png": "[encoded data removed]",
      "text/plain": [
       "<Figure size 1152x576 with 2 Axes>"
      ]
     },
     "metadata": {},
     "output_type": "display_data"
    }
   ],
   "source": [
    "fig, (ax1, ax2) = plt.subplots(1, 2, figsize=(16, 8))\n",
    "fig.suptitle(\"Small Dataset\")\n",
    "\n",
    "least_unique = np.argmin(unique_small_train)\n",
    "train_small.iloc[:, least_unique + 2].plot.hist(bins=1000, ax=ax1)\n",
    "ax1.set_title(f\"Least unique: var_{least_unique}\")\n",
    "\n",
    "most_unique = np.argmax(unique_small_train)\n",
    "train_small.iloc[:, most_unique + 2].plot.hist(bins=1000, ax=ax2)\n",
    "ax2.set_title(f\"Most unique: var_{most_unique}\");"
   ]
  },
  {
   "cell_type": "markdown",
   "metadata": {},
   "source": [
    "Which it does...\n",
    "\n",
    "We can also observe bell shapes in these histograms, which we will come back to."
   ]
  },
  {
   "cell_type": "markdown",
   "metadata": {},
   "source": [
    "## Class Balance\n",
    "\n",
    "The proportion between `1` and `0` targets is of huge importance for how we tackle the upcoming prediction challenge, so we should take a look at the class (im)balance in the datasets."
   ]
  },
  {
   "cell_type": "code",
   "execution_count": 191,
   "metadata": {},
   "outputs": [
    {
     "data": {
      "text/markdown": [
       "* **Small dataset**: 90.03% negatives, 9.97% positives"
      ],
      "text/plain": [
       "<IPython.core.display.Markdown object>"
      ]
     },
     "metadata": {},
     "output_type": "display_data"
    },
    {
     "data": {
      "text/markdown": [
       "* **Large dataset**: 89.95% negatives, 10.05% positives"
      ],
      "text/plain": [
       "<IPython.core.display.Markdown object>"
      ]
     },
     "metadata": {},
     "output_type": "display_data"
    }
   ],
   "source": [
    "for name, dataset in [(\"Small\", train_small), (\"Large\", train_large)]:\n",
    "    positives = (dataset.target == 1).sum()\n",
    "    negatives = len(dataset) - positives\n",
    "    \n",
    "    positive_fraction = positives / (positives + negatives)\n",
    "    negative_fraction = 1 - positive_fraction\n",
    "    \n",
    "    display(Markdown(\n",
    "        f\"* **{name} dataset**: \"\n",
    "        f\"{100 * negative_fraction:.2f}% negatives, \"\n",
    "        f\"{100 * positive_fraction:.2f}% positives\"\n",
    "    ))"
   ]
  },
  {
   "cell_type": "markdown",
   "metadata": {},
   "source": [
    "For both datasets, we have a 90/10 split between negatives and positives, respectively. This can definitely be considered as an unbalanced class, which should be kept in mind during model building."
   ]
  },
  {
   "cell_type": "markdown",
   "metadata": {},
   "source": [
    "## Normality test\n",
    "\n",
    "If our features are close to being normally distributed, a whole lot of additional statistical tests becomes available to us, such as the Student T test for instance (for distribution mean calculation tests).\n",
    "\n",
    "We should therefore check if our features are close to normally distributed.\n",
    "\n",
    "### Anderson-Darling Test\n",
    "\n",
    "Let's start by applying the Anderson-Darling Test for normality on the entirety of the large dataset."
   ]
  },
  {
   "cell_type": "code",
   "execution_count": 263,
   "metadata": {},
   "outputs": [
    {
     "data": {
      "text/plain": [
       "False"
      ]
     },
     "execution_count": 263,
     "metadata": {},
     "output_type": "execute_result"
    }
   ],
   "source": [
    "from scipy.stats import anderson\n",
    "\n",
    "def anderson_normality(dataset):\n",
    "    for feature in features:\n",
    "        result = anderson(dataset[feature].to_numpy(), dist=\"norm\")\n",
    "        significance_levels = result.significance_level\n",
    "        critical_values = result.critical_values\n",
    "        statistic = result.statistic\n",
    "        for critical_value, significance in zip(critical_values, significance_levels):\n",
    "            is_normal = statistic < critical_value\n",
    "            if is_normal:\n",
    "                return True\n",
    "    return False\n",
    "\n",
    "anderson_normality(dataset=train_large)"
   ]
  },
  {
   "cell_type": "markdown",
   "metadata": {},
   "source": [
    "Not a single feature is considered to be normally distributed even at a 15% significance level!\n",
    "What about if we group the dataset by `target`?"
   ]
  },
  {
   "cell_type": "code",
   "execution_count": 265,
   "metadata": {},
   "outputs": [
    {
     "name": "stdout",
     "output_type": "stream",
     "text": [
      "False\n",
      "False\n"
     ]
    }
   ],
   "source": [
    "print(anderson_normality(dataset=train_large[train_large.target == 0]))\n",
    "print(anderson_normality(dataset=train_large[train_large.target == 1]))"
   ]
  },
  {
   "cell_type": "markdown",
   "metadata": {},
   "source": [
    "Still not the case! We should therefore be careful with any normality assumptions going forwards."
   ]
  },
  {
   "cell_type": "markdown",
   "metadata": {},
   "source": [
    "## Describing Statistics\n",
    "\n",
    "We will now take a look at some describing statistics, such as mean, standard deviation, etc..\n",
    "\n",
    "What is really interesting for our prediction purposes is if these describing statistics differ significantly between observations with negative vs. positive labels.\n",
    "\n",
    "Let's start by calculating the mean."
   ]
  },
  {
   "cell_type": "code",
   "execution_count": 310,
   "metadata": {},
   "outputs": [],
   "source": [
    "def normalized_delta(dataset):\n",
    "    mean = dataset.groupby(\"target\").mean()[features]\n",
    "    delta_mean = (mean.iloc[0,:] - dataset.iloc[1,:]).abs()\n",
    "    std = dataset.std()[features]\n",
    "    normalized_delta_mean = (delta_mean / std)[features].astype(float)\n",
    "    return normalized_delta_mean\n",
    "    "
   ]
  },
  {
   "cell_type": "code",
   "execution_count": 318,
   "metadata": {},
   "outputs": [],
   "source": [
    "normalized_delta_mean = normalized_delta(dataset=train_large)\n",
    "sorted_deltas = normalized_delta_mean.sort_values()\n",
    "largest_deltas = normalized_delta_mean[-6:-1]\n",
    "smallest_deltas = normalized_delta_mean[0:5]"
   ]
  },
  {
   "cell_type": "code",
   "execution_count": null,
   "metadata": {},
   "outputs": [],
   "source": [
    "fig, ax = plt.subplots(5, 2, figsize=(16, 10))\n",
    "for axes, small, large in zip(ax, smallest_deltas.index, largest_deltas.index):\n",
    "    train_large[train_large.target == 0][large].plot.density(ax=axes[0], color=\"red\")\n",
    "    train_large[train_large.target == 1][large].plot.density(ax=axes[0], color=\"green\");\n",
    "    \n",
    "    train_large[train_large.target == 0][small].plot.density(ax=axes[0], color=\"red\")\n",
    "    train_large[train_large.target == 1][small].plot.density(ax=axes[0], color=\"green\");"
   ]
  },
  {
   "cell_type": "code",
   "execution_count": 332,
   "metadata": {},
   "outputs": [
    {
     "data": {
      "text/plain": [
       "Index(['var_0', 'var_1', 'var_2', 'var_3', 'var_4'], dtype='object')"
      ]
     },
     "execution_count": 332,
     "metadata": {},
     "output_type": "execute_result"
    }
   ],
   "source": [
    "smallest_deltas.index"
   ]
  },
  {
   "cell_type": "code",
   "execution_count": 315,
   "metadata": {},
   "outputs": [
    {
     "data": {
      "text/plain": [
       "var_153    0.004212\n",
       "var_7      0.004536\n",
       "var_37     0.008766\n",
       "var_51     0.016145\n",
       "var_143    0.021837\n",
       "             ...   \n",
       "var_15     2.114218\n",
       "var_142    2.168638\n",
       "var_89     2.401802\n",
       "var_86     2.491571\n",
       "var_179    3.047755\n",
       "Length: 200, dtype: float64"
      ]
     },
     "execution_count": 315,
     "metadata": {},
     "output_type": "execute_result"
    }
   ],
   "source": [
    "normalized_delta_mean.sort_values()"
   ]
  },
  {
   "cell_type": "code",
   "execution_count": null,
   "metadata": {},
   "outputs": [],
   "source": []
  }
 ],
 "metadata": {
  "kernelspec": {
   "display_name": "Python 3",
   "language": "python",
   "name": "python3"
  },
  "language_info": {
   "codemirror_mode": {
    "name": "ipython",
    "version": 3
   },
   "file_extension": ".py",
   "mimetype": "text/x-python",
   "name": "python",
   "nbconvert_exporter": "python",
   "pygments_lexer": "ipython3",
   "version": "3.7.4"
  }
 },
 "nbformat": 4,
 "nbformat_minor": 4
}
