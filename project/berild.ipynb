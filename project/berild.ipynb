{
 "cells": [
  {
   "cell_type": "markdown",
   "metadata": {},
   "source": [
    "# Santander Customer Transaction Prediction"
   ]
  },
  {
   "cell_type": "code",
   "execution_count": 1,
   "metadata": {},
   "outputs": [
    {
     "name": "stderr",
     "output_type": "stream",
     "text": [
      "/home/shomed/m/martinob/Documents/host2019/VisInt/venv/lib/python3.7/site-packages/sklearn/externals/joblib/__init__.py:15: DeprecationWarning: sklearn.externals.joblib is deprecated in 0.21 and will be removed in 0.23. Please import this functionality directly from joblib, which can be installed with: pip install joblib. If this warning is raised when loading pickled models, you may need to re-serialize those models with scikit-learn 0.21+.\n",
      "  warnings.warn(msg, category=DeprecationWarning)\n"
     ]
    }
   ],
   "source": [
    "import pandas as pd\n",
    "import numpy as np\n",
    "import pickle\n",
    "from sklearn.metrics import mean_squared_error, roc_auc_score, roc_curve, confusion_matrix\n",
    "from sklearn.externals import joblib\n",
    "import matplotlib.pyplot as plt\n",
    "import seaborn as sns\n",
    "\n",
    "\n",
    "train_df = pd.read_csv(\"../project/data/train_small.csv\", header=None)\n",
    "test_df = pd.read_csv(\"../project/data/test_small.csv\")\n",
    "\n",
    "train_df.columns = list([test_df.columns[0],\"target\",*test_df.columns[1:]])"
   ]
  },
  {
   "cell_type": "markdown",
   "metadata": {},
   "source": [
    "## Data Preprocessing"
   ]
  },
  {
   "cell_type": "code",
   "execution_count": null,
   "metadata": {},
   "outputs": [],
   "source": [
    "response = np.array(train_df['target'])\n",
    "features = np.array(train_df.iloc[:,2:])\n",
    "features_list = list(train_df.iloc[:,2:].columns)\n",
    "\n",
    "from sklearn.model_selection import train_test_split\n",
    "train_features, test_features, train_response, test_response = train_test_split(features, response, test_size = 0.25, random_state = 42)\n"
   ]
  },
  {
   "cell_type": "code",
   "execution_count": null,
   "metadata": {},
   "outputs": [],
   "source": [
    "print(\"train: \", 100*train_response.sum()/train_response.size,\"   test: \", 100*test_response.sum()/test_response.size)"
   ]
  },
  {
   "cell_type": "markdown",
   "metadata": {},
   "source": [
    "## Feature Selection "
   ]
  },
  {
   "cell_type": "code",
   "execution_count": null,
   "metadata": {},
   "outputs": [],
   "source": [
    "from sklearn.ensemble import RandomForestRegressor\n",
    "\n",
    "rf = RandomForestRegressor(n_estimators = 100, random_state = 42, verbose = 10,n_jobs = -1)\n",
    "\n",
    "rf.fit(train_features, train_response)\n",
    "\n"
   ]
  },
  {
   "cell_type": "code",
   "execution_count": null,
   "metadata": {},
   "outputs": [],
   "source": [
    "preds = rf.predict(test_features)\n",
    "pd.crosstab(test_response, preds, rownames=['Actual Value'], colnames=['Predicted Value'])\n",
    "\n",
    "importances = rf.feature_importances_\n",
    "std = np.std([tree.feature_importances_ for tree in rf.estimators_],\n",
    "             axis=0)\n",
    "indices = np.argsort(importances)[::-1]\n",
    "# Plot the feature importances of the forest\n",
    "plt.figure(figsize = (20,15))\n",
    "plt.title(\"Feature importances\")\n",
    "plt.bar(range(test_features.shape[1]), importances[indices],\n",
    "       color=\"r\", yerr=std[indices], align=\"center\")\n",
    "plt.xticks(range(test_features.shape[1]), indices, rotation='vertical')\n",
    "plt.xlim([-1, test_features.shape[1]])\n",
    "plt.show()"
   ]
  },
  {
   "cell_type": "code",
   "execution_count": null,
   "metadata": {},
   "outputs": [],
   "source": [
    "importances.min()"
   ]
  },
  {
   "cell_type": "code",
   "execution_count": 27,
   "metadata": {},
   "outputs": [],
   "source": [
    "def plt_density(df, var):\n",
    "    plt.figure(figsize = (10,10))\n",
    "    sns.distplot(train_df.loc[train_df['target'] == 0,var],hist = False, kde = True,\n",
    "                     kde_kws = {'shade': True, 'linewidth': 3}, \n",
    "                      label = \"target = 0\")\n",
    "    sns.distplot(train_df.loc[train_df['target'] == 1,var],hist = False, kde = True,\n",
    "                     kde_kws = {'shade': True, 'linewidth': 3}, \n",
    "                      label = \"target = 1\")\n",
    "\n",
    "    plt.title('Density Plot of ' + var)\n",
    "    plt.xlabel(var)\n",
    "    plt.ylabel('Density')\n",
    "    plt.show()\n",
    "\n",
    "# 3,4,7,10,11,14,15,16,17,19,20,23,25,27,29,30,31,32,37,38,39,41,42,45,46,47,50,52,54,55,57,59,60,61,63,64,65,68,69,72,73,77,79,82,83,84,85,89,90,96,97,98,100,101,102\n",
    "# 103,104,105,,113,116,117,120,124,126,128,129"
   ]
  },
  {
   "cell_type": "code",
   "execution_count": null,
   "metadata": {},
   "outputs": [],
   "source": [
    "plt_density(train_df, 'var_81')"
   ]
  },
  {
   "cell_type": "markdown",
   "metadata": {},
   "source": [
    "## Hyperparameter Tuning"
   ]
  },
  {
   "cell_type": "code",
   "execution_count": null,
   "metadata": {},
   "outputs": [],
   "source": [
    "def evaluate(model, test_features, test_labels):\n",
    "    predictions = model.predict(test_features)\n",
    "    errors = abs(predictions - test_labels)\n",
    "    mape = 100 * np.sum(errors)/test_labels.size\n",
    "    accuracy = 100 - mape\n",
    "    fpr, tpr, thresholds = roc_curve(test_labels, predictions)\n",
    "    plt.figure(figsize = (10,10))\n",
    "    plt.plot([0, 1], [0, 1], linestyle='--')\n",
    "    plt.plot(fpr, tpr, marker='.')\n",
    "    plt.show()\n",
    "    decision_boundary = 0.18\n",
    "    predictions[predictions < decision_boundary] = 0\n",
    "    predictions[predictions >= decision_boundary] = 1\n",
    "    conf_mat = confusion_matrix(test_labels, predictions)\n",
    "    print('Model Performance')\n",
    "    print(conf_mat)\n",
    "    print('Accuracy = {:0.2f}%.'.format(accuracy))\n",
    "    \n",
    "    return accuracy"
   ]
  },
  {
   "cell_type": "markdown",
   "metadata": {},
   "source": [
    "## Random search"
   ]
  },
  {
   "cell_type": "code",
   "execution_count": null,
   "metadata": {},
   "outputs": [],
   "source": [
    "from sklearn.model_selection import RandomizedSearchCV\n",
    "# Number of trees in random forest\n",
    "n_estimators = [int(x) for x in np.linspace(start = 200, stop = 2000, num = 10)]\n",
    "# Number of features to consider at every split\n",
    "max_features = ['auto', 'sqrt']\n",
    "# Maximum number of levels in tree\n",
    "max_depth = [int(x) for x in np.linspace(10, 110, num = 11)]\n",
    "max_depth.append(None)\n",
    "# Minimum number of samples required to split a node\n",
    "min_samples_split = [2, 5, 10]\n",
    "# Minimum number of samples required at each leaf node\n",
    "min_samples_leaf = [1, 2, 4]\n",
    "# Method of selecting samples for training each tree\n",
    "bootstrap = [True, False]\n",
    "\n",
    "# Create the random grid\n",
    "random_grid = {'n_estimators': n_estimators,\n",
    "               'max_features': max_features,\n",
    "               'max_depth': max_depth,\n",
    "               'min_samples_split': min_samples_split,\n",
    "               'min_samples_leaf': min_samples_leaf,\n",
    "               'bootstrap': bootstrap}\n",
    "\n",
    "# First create the base model to tune\n",
    "rf = RandomForestRegressor(random_state = 42)\n",
    "# Random search of parameters, using 3 fold cross validation, \n",
    "# search across 100 different combinations, and use all available cores\n",
    "rf_random = RandomizedSearchCV(estimator=rf, param_distributions=random_grid,\n",
    "                              n_iter = 100, scoring='neg_mean_absolute_error', \n",
    "                              cv = 3, verbose=2, random_state=42, n_jobs=-1,\n",
    "                              return_train_score=True)\n",
    "\n",
    "# Fit the random search model\n",
    "rf_random.fit(train_features, train_response);"
   ]
  },
  {
   "cell_type": "code",
   "execution_count": null,
   "metadata": {},
   "outputs": [],
   "source": [
    "rf_random.best_params_"
   ]
  },
  {
   "cell_type": "code",
   "execution_count": null,
   "metadata": {},
   "outputs": [],
   "source": [
    "base_model = RandomForestRegressor(n_estimators = 10, random_state = 42)\n",
    "base_model.fit(train_features, train_labels)\n",
    "base_accuracy = evaluate(base_model, test_features, test_labels)"
   ]
  },
  {
   "cell_type": "code",
   "execution_count": null,
   "metadata": {},
   "outputs": [],
   "source": [
    "best_params_random = joblib.load(\"../project/best_params_rf.pkl\")\n",
    "best_estimator_random= joblib.load(\"../project/best_estimator_rf.pkl\")\n",
    "best_params_random"
   ]
  },
  {
   "cell_type": "code",
   "execution_count": null,
   "metadata": {},
   "outputs": [],
   "source": [
    "random_accuracy = evaluate(best_estimator_random, test_features, test_response)"
   ]
  },
  {
   "cell_type": "markdown",
   "metadata": {},
   "source": [
    "## Grid search 1"
   ]
  },
  {
   "cell_type": "code",
   "execution_count": null,
   "metadata": {},
   "outputs": [],
   "source": [
    "from sklearn.model_selection import GridSearchCV\n",
    "\n",
    "# Create the parameter grid based on the results of random search \n",
    "param_grid = {\n",
    "    'bootstrap': [False],\n",
    "    'max_depth': [20, 30, 40],\n",
    "    'max_features': [2, 3],\n",
    "    'min_samples_leaf': [4, 5, 6],\n",
    "    'min_samples_split': [2, 3, 4],\n",
    "    'n_estimators': [1800, 2000, 2200]\n",
    "}\n",
    "\n",
    "# Create a base model\n",
    "rf = RandomForestRegressor(random_state = 42)\n",
    "\n",
    "# Instantiate the grid search model\n",
    "grid_search = GridSearchCV(estimator = rf, param_grid = param_grid, \n",
    "                          cv = 3, n_jobs = -1, verbose = 2, return_train_score=True)\n",
    "grid_search.fit(train_features, train_labels)"
   ]
  },
  {
   "cell_type": "code",
   "execution_count": null,
   "metadata": {},
   "outputs": [],
   "source": [
    "grid_search.best_params_"
   ]
  },
  {
   "cell_type": "code",
   "execution_count": null,
   "metadata": {},
   "outputs": [],
   "source": [
    "best_grid = grid_search.best_estimator_\n",
    "grid_accuracy = evaluate(best_grid, test_features, test_labels)"
   ]
  },
  {
   "cell_type": "markdown",
   "metadata": {},
   "source": [
    "### Grid search 2"
   ]
  },
  {
   "cell_type": "code",
   "execution_count": null,
   "metadata": {},
   "outputs": [],
   "source": [
    "param_grid = {\n",
    "    'bootstrap': [True],\n",
    "    'max_depth': [110, 120, None],\n",
    "    'max_features': [3, 4],\n",
    "    'min_samples_leaf': [5, 6, 7],\n",
    "    'min_samples_split': [10],\n",
    "    'n_estimators': [75, 100, 125]\n",
    "}\n",
    "\n",
    "# Create a base model\n",
    "rf = RandomForestRegressor(random_state = 42)\n",
    "\n",
    "# Instantiate the grid search model\n",
    "grid_search_final = GridSearchCV(estimator = rf, param_grid = param_grid, \n",
    "                                 cv = 3, n_jobs = -1, verbose = 2, return_train_score=True)\n",
    "\n",
    "grid_search_final.fit(train_features, train_labels);"
   ]
  },
  {
   "cell_type": "code",
   "execution_count": null,
   "metadata": {},
   "outputs": [],
   "source": [
    "grid_search_final.best_params_"
   ]
  },
  {
   "cell_type": "code",
   "execution_count": null,
   "metadata": {},
   "outputs": [],
   "source": [
    "best_grid_final = grid_search_final.best_estimator_\n",
    "grid_final_accuracy = evaluate(best_grid_final, test_features, test_labels)"
   ]
  },
  {
   "cell_type": "code",
   "execution_count": null,
   "metadata": {},
   "outputs": [],
   "source": [
    "filename = 'finalized_model.sav'\n",
    "pickle.dump(model, open(filename, 'wb'))"
   ]
  },
  {
   "cell_type": "markdown",
   "metadata": {},
   "source": [
    "# Logistic Regression"
   ]
  },
  {
   "cell_type": "markdown",
   "metadata": {},
   "source": [
    "Our model consists of 200 features, $x_j$ for $j\\in\\{1,...,200\\}$, and a response $\\mathbf{y}$ which has binary values $y \\in \\{0,1\\}$. The response is assumed to follow a Bernoulli distribution s.t. $P(y=1)= p = 1-P(y=0) = 1-q$. We can then write the logarithm of the odds as follows\n",
    "\\begin{equation*}\n",
    "ln\\left(\\frac{p}{1-p}\\right) = \\beta_0 + \\beta_1\\mathbf{x_1} + \\dots \\ \\beta_{200}\\mathbf{x_{200}},\n",
    "\\end{equation*}\n",
    "which we can rewrite to\n",
    "\\begin{equation*}\n",
    "P(y = 1) = \\frac{1}{1 + \\exp\\{-(\\beta_0 + \\beta_1\\mathbf{x_1} + \\dots \\ \\beta_{200}\\mathbf{x_{200}})\\}} = f(\\mathbf{X},\\beta).\n",
    "\\end{equation*}\n",
    "This is the logit function, which squeezes the values between zero and one. Let us now vectorize $\\mathbf{\\beta}$ and create the design matrix $\\mathbf{X}$. We now want to find the maximum likelihood estimates of the $\\mathbf{\\beta}$s' assuming that the response $\\mathbf {y}$ are independently Bernoulli distributed. The log-likelihood function then becomes\n",
    "\\begin{equation*}\n",
    "l(\\mathbf{\\beta}|\\mathbf{X}) = \\sum\\limits_{i=1}^{n}ln(P(y_i|\\mathbf{x}_i,\\mathbf{\\beta})) = \\sum\\limits_{i=1}^n(y_i ln(f(\\mathbf{x}_i,\\beta) +  (1-y_i)ln(1 - f(\\mathbf{x}_i,\\beta)).\n",
    "\\end{equation*}\n",
    "To find the maximum likelihood estimates of $\\beta$, a numerical optimization method is used s.t.\n",
    "\\begin{equation*}\n",
    "\\hat{\\beta} = \\underset{\\beta}{\\mathrm{argmax}} \\enspace l(\\beta|\\mathbf{X}).\n",
    "\\end{equation*}"
   ]
  },
  {
   "cell_type": "code",
   "execution_count": 3,
   "metadata": {},
   "outputs": [],
   "source": [
    "from datasets import get_datasets\n",
    "datasets = get_datasets()"
   ]
  },
  {
   "cell_type": "code",
   "execution_count": 13,
   "metadata": {},
   "outputs": [],
   "source": [
    "from sklearn.linear_model import LogisticRegression\n",
    "data = datasets.small.resplit(0.9,0,0.1)"
   ]
  },
  {
   "cell_type": "code",
   "execution_count": 14,
   "metadata": {},
   "outputs": [
    {
     "data": {
      "text/plain": [
       "LogisticRegression(C=1.0, class_weight=None, dual=False, fit_intercept=True,\n",
       "                   intercept_scaling=1, l1_ratio=None, max_iter=10000,\n",
       "                   multi_class='warn', n_jobs=None, penalty='l2',\n",
       "                   random_state=None, solver='lbfgs', tol=0.0001, verbose=0,\n",
       "                   warm_start=False)"
      ]
     },
     "execution_count": 14,
     "metadata": {},
     "output_type": "execute_result"
    }
   ],
   "source": [
    "logreg = LogisticRegression(solver='lbfgs',max_iter = 10000)\n",
    "logreg.fit(data.train_split.X, data.train_split.y)"
   ]
  },
  {
   "cell_type": "code",
   "execution_count": 15,
   "metadata": {},
   "outputs": [],
   "source": [
    "y_pred = logreg.predict_proba(data.test_split.X)"
   ]
  },
  {
   "cell_type": "code",
   "execution_count": 20,
   "metadata": {},
   "outputs": [
    {
     "data": {
      "text/markdown": [
       "### Evaluation Report"
      ],
      "text/plain": [
       "<IPython.core.display.Markdown object>"
      ]
     },
     "metadata": {},
     "output_type": "display_data"
    },
    {
     "data": {
      "text/markdown": [
       "__PRC AUC Score:__ 0.53651"
      ],
      "text/plain": [
       "<IPython.core.display.Markdown object>"
      ]
     },
     "metadata": {},
     "output_type": "display_data"
    },
    {
     "data": {
      "text/markdown": [
       "__ROC AUC Score:__ 0.87570\n"
      ],
      "text/plain": [
       "<IPython.core.display.Markdown object>"
      ]
     },
     "metadata": {},
     "output_type": "display_data"
    },
    {
     "data": {
      "text/markdown": [
       "\n",
       "_Following statistics calculated with cut-off = 0.5_"
      ],
      "text/plain": [
       "<IPython.core.display.Markdown object>"
      ]
     },
     "metadata": {},
     "output_type": "display_data"
    },
    {
     "data": {
      "text/markdown": [
       "__Accuracy:__ 91.84%"
      ],
      "text/plain": [
       "<IPython.core.display.Markdown object>"
      ]
     },
     "metadata": {},
     "output_type": "display_data"
    },
    {
     "data": {
      "text/markdown": [
       "__Balanced Accuracy:__ 64.24%\n"
      ],
      "text/plain": [
       "<IPython.core.display.Markdown object>"
      ]
     },
     "metadata": {},
     "output_type": "display_data"
    },
    {
     "data": {
      "text/markdown": [
       "__Sensitivity:__ 29.76%"
      ],
      "text/plain": [
       "<IPython.core.display.Markdown object>"
      ]
     },
     "metadata": {},
     "output_type": "display_data"
    },
    {
     "data": {
      "text/markdown": [
       "__Specificity:__ 98.72%"
      ],
      "text/plain": [
       "<IPython.core.display.Markdown object>"
      ]
     },
     "metadata": {},
     "output_type": "display_data"
    },
    {
     "data": {
      "text/markdown": [
       "__Class 1 Precision:__ 71.97%"
      ],
      "text/plain": [
       "<IPython.core.display.Markdown object>"
      ]
     },
     "metadata": {},
     "output_type": "display_data"
    },
    {
     "data": {
      "text/markdown": [
       "__Class 1 Recall:__ 29.76%"
      ],
      "text/plain": [
       "<IPython.core.display.Markdown object>"
      ]
     },
     "metadata": {},
     "output_type": "display_data"
    },
    {
     "data": {
      "text/html": [
       "<div>\n",
       "<style scoped>\n",
       "    .dataframe tbody tr th:only-of-type {\n",
       "        vertical-align: middle;\n",
       "    }\n",
       "\n",
       "    .dataframe tbody tr th {\n",
       "        vertical-align: top;\n",
       "    }\n",
       "\n",
       "    .dataframe thead th {\n",
       "        text-align: right;\n",
       "    }\n",
       "</style>\n",
       "<table border=\"1\" class=\"dataframe\">\n",
       "  <thead>\n",
       "    <tr style=\"text-align: right;\">\n",
       "      <th></th>\n",
       "      <th>Condition Positive</th>\n",
       "      <th>Condition Negative</th>\n",
       "    </tr>\n",
       "  </thead>\n",
       "  <tbody>\n",
       "    <tr>\n",
       "      <td>Positive Prediction</td>\n",
       "      <td>208</td>\n",
       "      <td>81</td>\n",
       "    </tr>\n",
       "    <tr>\n",
       "      <td>Negative Prediction</td>\n",
       "      <td>491</td>\n",
       "      <td>6226</td>\n",
       "    </tr>\n",
       "  </tbody>\n",
       "</table>\n",
       "</div>"
      ],
      "text/plain": [
       "                     Condition Positive  Condition Negative\n",
       "Positive Prediction                 208                  81\n",
       "Negative Prediction                 491                6226"
      ]
     },
     "metadata": {},
     "output_type": "display_data"
    },
    {
     "data": {
      "image/png": "[encoded data removed]",
      "text/plain": [
       "<Figure size 1080x540 with 2 Axes>"
      ]
     },
     "metadata": {
      "needs_background": "light"
     },
     "output_type": "display_data"
    }
   ],
   "source": [
    "data.evaluate(y_pred,plot_roc = True)"
   ]
  },
  {
   "cell_type": "markdown",
   "metadata": {},
   "source": [
    "## Over Sampling"
   ]
  },
  {
   "cell_type": "code",
   "execution_count": 18,
   "metadata": {},
   "outputs": [
    {
     "name": "stderr",
     "output_type": "stream",
     "text": [
      "Using TensorFlow backend.\n"
     ]
    }
   ],
   "source": [
    "from imblearn.over_sampling import SMOTE\n",
    "os = SMOTE(random_state=0)\n",
    "os_features,os_response=os.fit_sample(data.train_split.X, data.train_split.y)"
   ]
  },
  {
   "cell_type": "code",
   "execution_count": 19,
   "metadata": {},
   "outputs": [
    {
     "name": "stdout",
     "output_type": "stream",
     "text": [
      "length of oversampled data is  113526\n",
      "Number of 0 labels in oversampled data 56763\n",
      "Number of 1 labels 56763\n",
      "Proportion of 0 labels in oversampled data is  0.5\n",
      "Proportion of 1 labels in oversampled data is  0.5\n"
     ]
    }
   ],
   "source": [
    "print(\"length of oversampled data is \",len(os_features))\n",
    "print(\"Number of 0 labels in oversampled data\",len(os_response[os_response==0]))\n",
    "print(\"Number of 1 labels\",len(os_response[os_response==1]))\n",
    "print(\"Proportion of 0 labels in oversampled data is \",len(os_response[os_response==0])/len(os_features))\n",
    "print(\"Proportion of 1 labels in oversampled data is \",len(os_response[os_response==1])/len(os_features))"
   ]
  },
  {
   "cell_type": "code",
   "execution_count": 21,
   "metadata": {},
   "outputs": [
    {
     "data": {
      "text/plain": [
       "LogisticRegression(C=1.0, class_weight=None, dual=False, fit_intercept=True,\n",
       "                   intercept_scaling=1, l1_ratio=None, max_iter=10000,\n",
       "                   multi_class='warn', n_jobs=None, penalty='l2',\n",
       "                   random_state=None, solver='lbfgs', tol=0.0001, verbose=0,\n",
       "                   warm_start=False)"
      ]
     },
     "execution_count": 21,
     "metadata": {},
     "output_type": "execute_result"
    }
   ],
   "source": [
    "lg_os = LogisticRegression(solver='lbfgs',max_iter = 10000)\n",
    "lg_os.fit(os_features, os_response)"
   ]
  },
  {
   "cell_type": "code",
   "execution_count": 22,
   "metadata": {},
   "outputs": [],
   "source": [
    "y_pred = lg_os.predict_proba(data.test_split.X)"
   ]
  },
  {
   "cell_type": "code",
   "execution_count": 23,
   "metadata": {},
   "outputs": [
    {
     "data": {
      "text/markdown": [
       "### Evaluation Report"
      ],
      "text/plain": [
       "<IPython.core.display.Markdown object>"
      ]
     },
     "metadata": {},
     "output_type": "display_data"
    },
    {
     "data": {
      "text/markdown": [
       "__PRC AUC Score:__ 0.53176"
      ],
      "text/plain": [
       "<IPython.core.display.Markdown object>"
      ]
     },
     "metadata": {},
     "output_type": "display_data"
    },
    {
     "data": {
      "text/markdown": [
       "__ROC AUC Score:__ 0.87393\n"
      ],
      "text/plain": [
       "<IPython.core.display.Markdown object>"
      ]
     },
     "metadata": {},
     "output_type": "display_data"
    },
    {
     "data": {
      "text/markdown": [
       "\n",
       "_Following statistics calculated with cut-off = 0.5_"
      ],
      "text/plain": [
       "<IPython.core.display.Markdown object>"
      ]
     },
     "metadata": {},
     "output_type": "display_data"
    },
    {
     "data": {
      "text/markdown": [
       "__Accuracy:__ 78.00%"
      ],
      "text/plain": [
       "<IPython.core.display.Markdown object>"
      ]
     },
     "metadata": {},
     "output_type": "display_data"
    },
    {
     "data": {
      "text/markdown": [
       "__Balanced Accuracy:__ 79.52%\n"
      ],
      "text/plain": [
       "<IPython.core.display.Markdown object>"
      ]
     },
     "metadata": {},
     "output_type": "display_data"
    },
    {
     "data": {
      "text/markdown": [
       "__Sensitivity:__ 81.40%"
      ],
      "text/plain": [
       "<IPython.core.display.Markdown object>"
      ]
     },
     "metadata": {},
     "output_type": "display_data"
    },
    {
     "data": {
      "text/markdown": [
       "__Specificity:__ 77.63%"
      ],
      "text/plain": [
       "<IPython.core.display.Markdown object>"
      ]
     },
     "metadata": {},
     "output_type": "display_data"
    },
    {
     "data": {
      "text/markdown": [
       "__Class 1 Precision:__ 28.74%"
      ],
      "text/plain": [
       "<IPython.core.display.Markdown object>"
      ]
     },
     "metadata": {},
     "output_type": "display_data"
    },
    {
     "data": {
      "text/markdown": [
       "__Class 1 Recall:__ 81.40%"
      ],
      "text/plain": [
       "<IPython.core.display.Markdown object>"
      ]
     },
     "metadata": {},
     "output_type": "display_data"
    },
    {
     "data": {
      "text/html": [
       "<div>\n",
       "<style scoped>\n",
       "    .dataframe tbody tr th:only-of-type {\n",
       "        vertical-align: middle;\n",
       "    }\n",
       "\n",
       "    .dataframe tbody tr th {\n",
       "        vertical-align: top;\n",
       "    }\n",
       "\n",
       "    .dataframe thead th {\n",
       "        text-align: right;\n",
       "    }\n",
       "</style>\n",
       "<table border=\"1\" class=\"dataframe\">\n",
       "  <thead>\n",
       "    <tr style=\"text-align: right;\">\n",
       "      <th></th>\n",
       "      <th>Condition Positive</th>\n",
       "      <th>Condition Negative</th>\n",
       "    </tr>\n",
       "  </thead>\n",
       "  <tbody>\n",
       "    <tr>\n",
       "      <td>Positive Prediction</td>\n",
       "      <td>569</td>\n",
       "      <td>1411</td>\n",
       "    </tr>\n",
       "    <tr>\n",
       "      <td>Negative Prediction</td>\n",
       "      <td>130</td>\n",
       "      <td>4896</td>\n",
       "    </tr>\n",
       "  </tbody>\n",
       "</table>\n",
       "</div>"
      ],
      "text/plain": [
       "                     Condition Positive  Condition Negative\n",
       "Positive Prediction                 569                1411\n",
       "Negative Prediction                 130                4896"
      ]
     },
     "metadata": {},
     "output_type": "display_data"
    },
    {
     "data": {
      "image/png": "[encoded data removed]",
      "text/plain": [
       "<Figure size 1080x540 with 2 Axes>"
      ]
     },
     "metadata": {
      "needs_background": "light"
     },
     "output_type": "display_data"
    }
   ],
   "source": [
    "data.evaluate(y_pred,plot_roc = True)"
   ]
  },
  {
   "cell_type": "markdown",
   "metadata": {},
   "source": [
    "## Feature Selection"
   ]
  },
  {
   "cell_type": "code",
   "execution_count": null,
   "metadata": {},
   "outputs": [],
   "source": [
    "from sklearn.feature_selection import RFECV\n",
    "\n",
    "lg_os = LogisticRegression(solver='lbfgs',max_iter=1000)\n",
    "rfe = RFECV(logreg, min_features_to_select  = 20, step=1, cv=5, n_jobs = -1, verbose = 10)\n",
    "rfe = rfe.fit(os_features, os_response)"
   ]
  },
  {
   "cell_type": "markdown",
   "metadata": {},
   "source": [
    "# Naive Bayes Classifier"
   ]
  },
  {
   "cell_type": "markdown",
   "metadata": {},
   "source": [
    "The naive bayes Classifier comes from Bayes theorem \n",
    "\\begin{equation*}\n",
    " P(\\mathbf{y}|\\mathbf{X}) = \\frac{P(\\mathbf{X}|\\mathbf{y})P(\\mathbf{y})}{P(\\mathbf{X})},\n",
    "\\end{equation*}\n",
    "which means that we can find the probability for classification $\\mathbf{y}$ based on the features $\\mathbf{X}$. The naive part of this classifier is the assumptions that the features are independent i.e. $P(\\mathbf{x}_i,\\mathbf{x}_j) = P(\\mathbf{x}_i)P(\\mathbf{x}_j)$.\n",
    "The features are contained in the vector $\\mathbf{X} = (\\mathbf{x}_1, \\mathbf{x}_2,\\dots,\\mathbf{x}_{200})$ and thereby we can rewrite bayes theorem to \n",
    "\\begin{equation*}\n",
    " P(\\mathbf{y}|\\mathbf{X}) = \\frac{P(\\mathbf{x}_1|\\mathbf{y})P(\\mathbf{x}_2|\\mathbf{y})\\dots P(\\mathbf{x}_{200}|\\mathbf{y})P(\\mathbf{y})}{P(\\mathbf{x}_1)P(\\mathbf{x}_2)\\dots P(\\mathbf{x}_{200})}.\n",
    "\\end{equation*}\n",
    "The denominator in this is constant and we can rewrite the expression to\n",
    "\\begin{equation*}\n",
    "P(\\mathbf{y}|\\mathbf{X}) \\propto P(\\mathbf{y}) \\prod\\limits_{i = 1}^{200} P(\\mathbf{x}_i|\\mathbf{y}),\n",
    "\\end{equation*}\n",
    "thereby yielding the classifier \n",
    "\\begin{equation*}\n",
    "    y = \\underset{y}{\\mathrm{argmax}} P(y) \\prod\\limits_{i = 1}^{200} P(\\mathbf{x}_i|y).\n",
    "\\end{equation*}\n",
    "\n",
    "Furthermore we need to define the prior $P(y)$ and the likelihood $P(\\mathbf{X}_i|y)$. Our prior belief about $y$ would be the distribution of class $1$ or $0$ labels, which is yields the bernoulli distribution $P(y = 1) \\approx 0.1$ and $P(y = 0) \\approx 0.9$. \n",
    "The choice of likelihood functions is done by looking at the distributions of $\\mathbf{X}_i|y = j$. Below we import the dataset with a train/test = $0.9/0.1$, and then we visualize the distribution of 'var_3'."
   ]
  },
  {
   "cell_type": "code",
   "execution_count": 24,
   "metadata": {},
   "outputs": [],
   "source": [
    "from datasets import get_datasets\n",
    "datasets = get_datasets()"
   ]
  },
  {
   "cell_type": "code",
   "execution_count": 42,
   "metadata": {},
   "outputs": [],
   "source": [
    "from sklearn.naive_bayes import GaussianNB\n",
    "data = datasets.small.resplit(0.75,0,0.25)"
   ]
  },
  {
   "cell_type": "code",
   "execution_count": 43,
   "metadata": {},
   "outputs": [
    {
     "data": {
      "image/png": "[encoded data removed]",
      "text/plain": [
       "<Figure size 720x720 with 1 Axes>"
      ]
     },
     "metadata": {
      "needs_background": "light"
     },
     "output_type": "display_data"
    }
   ],
   "source": [
    "plt_density(data.train_split.X, 'var_3')"
   ]
  },
  {
   "cell_type": "markdown",
   "metadata": {},
   "source": [
    "As seen see the the distribution above  is has some similarities with the Gaussian distribution. This is not true for all featues, however we make this assumption and set the likelihood to follow the Gaussian distribution given by the equation \n",
    "\\begin{equation*}\n",
    "    x_i|y=j \\sim \\frac{1}{\\sqrt{2\\pi\\sigma_y^2}}\\exp\\left(-\\frac{(x_i - \\mu_y)^2}{2\\sigma_y^2}\\right),\n",
    "\\end{equation*}\n",
    "where $\\mu_y = E(x_i|y = j)$ and $\\sigma_y^2 = Var(x_i|y = j)$. If you were to manually program this it would be to take the column mean and standard deviation given the target value $y = j$ where $j \\in \\{0,1\\}$. Thereby using these as the parameters in the distribution of the likelihood."
   ]
  },
  {
   "cell_type": "code",
   "execution_count": 44,
   "metadata": {},
   "outputs": [
    {
     "data": {
      "text/markdown": [
       "### DataSet summary\n",
       "\n",
       "__Train size:__ 70057 __Class balance:__ 90.03% / 10.0%\n",
       "\n",
       "#### Sub-splits\n",
       "\n",
       "__Train, validation, test split__ = (0.75, 0, 0.25)\n",
       "\n",
       "__Train split size:__ 52542 __Class balance:__ 90.03% / 10.0%\n",
       "\n",
       "__Test split size:__ 17515 __Class balance:__ 90.03% / 10.0%"
      ],
      "text/plain": [
       "<IPython.core.display.Markdown object>"
      ]
     },
     "execution_count": 44,
     "metadata": {},
     "output_type": "execute_result"
    }
   ],
   "source": [
    "data.summary()"
   ]
  },
  {
   "cell_type": "code",
   "execution_count": 45,
   "metadata": {},
   "outputs": [],
   "source": [
    "gnb = GaussianNB()\n",
    "gnb_model = gnb.fit(data.train_split.X, data.train_split.y)"
   ]
  },
  {
   "cell_type": "code",
   "execution_count": 46,
   "metadata": {},
   "outputs": [],
   "source": [
    "y_pred = gnb_model.predict_proba(data.test_split.X)"
   ]
  },
  {
   "cell_type": "code",
   "execution_count": 47,
   "metadata": {},
   "outputs": [
    {
     "data": {
      "text/markdown": [
       "### Evaluation Report"
      ],
      "text/plain": [
       "<IPython.core.display.Markdown object>"
      ]
     },
     "metadata": {},
     "output_type": "display_data"
    },
    {
     "data": {
      "text/markdown": [
       "__PRC AUC Score:__ 0.59541"
      ],
      "text/plain": [
       "<IPython.core.display.Markdown object>"
      ]
     },
     "metadata": {},
     "output_type": "display_data"
    },
    {
     "data": {
      "text/markdown": [
       "__ROC AUC Score:__ 0.89251\n"
      ],
      "text/plain": [
       "<IPython.core.display.Markdown object>"
      ]
     },
     "metadata": {},
     "output_type": "display_data"
    },
    {
     "data": {
      "text/markdown": [
       "\n",
       "_Following statistics calculated with cut-off = 0.5_"
      ],
      "text/plain": [
       "<IPython.core.display.Markdown object>"
      ]
     },
     "metadata": {},
     "output_type": "display_data"
    },
    {
     "data": {
      "text/markdown": [
       "__Accuracy:__ 92.41%"
      ],
      "text/plain": [
       "<IPython.core.display.Markdown object>"
      ]
     },
     "metadata": {},
     "output_type": "display_data"
    },
    {
     "data": {
      "text/markdown": [
       "__Balanced Accuracy:__ 68.02%\n"
      ],
      "text/plain": [
       "<IPython.core.display.Markdown object>"
      ]
     },
     "metadata": {},
     "output_type": "display_data"
    },
    {
     "data": {
      "text/markdown": [
       "__Sensitivity:__ 37.55%"
      ],
      "text/plain": [
       "<IPython.core.display.Markdown object>"
      ]
     },
     "metadata": {},
     "output_type": "display_data"
    },
    {
     "data": {
      "text/markdown": [
       "__Specificity:__ 98.48%"
      ],
      "text/plain": [
       "<IPython.core.display.Markdown object>"
      ]
     },
     "metadata": {},
     "output_type": "display_data"
    },
    {
     "data": {
      "text/markdown": [
       "__Class 1 Precision:__ 73.30%"
      ],
      "text/plain": [
       "<IPython.core.display.Markdown object>"
      ]
     },
     "metadata": {},
     "output_type": "display_data"
    },
    {
     "data": {
      "text/markdown": [
       "__Class 1 Recall:__ 37.55%"
      ],
      "text/plain": [
       "<IPython.core.display.Markdown object>"
      ]
     },
     "metadata": {},
     "output_type": "display_data"
    },
    {
     "data": {
      "text/html": [
       "<div>\n",
       "<style scoped>\n",
       "    .dataframe tbody tr th:only-of-type {\n",
       "        vertical-align: middle;\n",
       "    }\n",
       "\n",
       "    .dataframe tbody tr th {\n",
       "        vertical-align: top;\n",
       "    }\n",
       "\n",
       "    .dataframe thead th {\n",
       "        text-align: right;\n",
       "    }\n",
       "</style>\n",
       "<table border=\"1\" class=\"dataframe\">\n",
       "  <thead>\n",
       "    <tr style=\"text-align: right;\">\n",
       "      <th></th>\n",
       "      <th>Condition Positive</th>\n",
       "      <th>Condition Negative</th>\n",
       "    </tr>\n",
       "  </thead>\n",
       "  <tbody>\n",
       "    <tr>\n",
       "      <td>Positive Prediction</td>\n",
       "      <td>656</td>\n",
       "      <td>239</td>\n",
       "    </tr>\n",
       "    <tr>\n",
       "      <td>Negative Prediction</td>\n",
       "      <td>1091</td>\n",
       "      <td>15529</td>\n",
       "    </tr>\n",
       "  </tbody>\n",
       "</table>\n",
       "</div>"
      ],
      "text/plain": [
       "                     Condition Positive  Condition Negative\n",
       "Positive Prediction                 656                 239\n",
       "Negative Prediction                1091               15529"
      ]
     },
     "metadata": {},
     "output_type": "display_data"
    },
    {
     "data": {
      "image/png": "[encoded data removed]",
      "text/plain": [
       "<Figure size 1080x540 with 2 Axes>"
      ]
     },
     "metadata": {
      "needs_background": "light"
     },
     "output_type": "display_data"
    }
   ],
   "source": [
    "data.evaluate(y_pred[:,1],plot_roc = True)"
   ]
  },
  {
   "cell_type": "markdown",
   "metadata": {},
   "source": [
    "## Oversampling"
   ]
  },
  {
   "cell_type": "code",
   "execution_count": 48,
   "metadata": {},
   "outputs": [
    {
     "name": "stdout",
     "output_type": "stream",
     "text": [
      "length of oversampled data is  94604\n",
      "Number of 0 labels in oversampled data 47302\n",
      "Number of 1 labels 47302\n",
      "Proportion of 0 labels in oversampled data is  0.5\n",
      "Proportion of 1 labels in oversampled data is  0.5\n"
     ]
    }
   ],
   "source": [
    "from imblearn.over_sampling import SMOTE\n",
    "os = SMOTE(random_state=0)\n",
    "os_features,os_response=os.fit_sample(data.train_split.X, data.train_split.y)\n",
    "print(\"length of oversampled data is \",len(os_features))\n",
    "print(\"Number of 0 labels in oversampled data\",len(os_response[os_response==0]))\n",
    "print(\"Number of 1 labels\",len(os_response[os_response==1]))\n",
    "print(\"Proportion of 0 labels in oversampled data is \",len(os_response[os_response==0])/len(os_features))\n",
    "print(\"Proportion of 1 labels in oversampled data is \",len(os_response[os_response==1])/len(os_features))"
   ]
  },
  {
   "cell_type": "code",
   "execution_count": 49,
   "metadata": {},
   "outputs": [],
   "source": [
    "gnb_os = GaussianNB()\n",
    "gnb_model_os = gnb_os.fit(os_features, os_response)"
   ]
  },
  {
   "cell_type": "code",
   "execution_count": 50,
   "metadata": {},
   "outputs": [],
   "source": [
    "y_pred = gnb_model_os.predict_proba(data.test_split.X)"
   ]
  },
  {
   "cell_type": "code",
   "execution_count": 51,
   "metadata": {},
   "outputs": [
    {
     "data": {
      "text/markdown": [
       "### Evaluation Report"
      ],
      "text/plain": [
       "<IPython.core.display.Markdown object>"
      ]
     },
     "metadata": {},
     "output_type": "display_data"
    },
    {
     "data": {
      "text/markdown": [
       "__PRC AUC Score:__ 0.12831"
      ],
      "text/plain": [
       "<IPython.core.display.Markdown object>"
      ]
     },
     "metadata": {},
     "output_type": "display_data"
    },
    {
     "data": {
      "text/markdown": [
       "__ROC AUC Score:__ 0.57966\n"
      ],
      "text/plain": [
       "<IPython.core.display.Markdown object>"
      ]
     },
     "metadata": {},
     "output_type": "display_data"
    },
    {
     "data": {
      "text/markdown": [
       "\n",
       "_Following statistics calculated with cut-off = 0.5_"
      ],
      "text/plain": [
       "<IPython.core.display.Markdown object>"
      ]
     },
     "metadata": {},
     "output_type": "display_data"
    },
    {
     "data": {
      "text/markdown": [
       "__Accuracy:__ 87.12%"
      ],
      "text/plain": [
       "<IPython.core.display.Markdown object>"
      ]
     },
     "metadata": {},
     "output_type": "display_data"
    },
    {
     "data": {
      "text/markdown": [
       "__Balanced Accuracy:__ 51.62%\n"
      ],
      "text/plain": [
       "<IPython.core.display.Markdown object>"
      ]
     },
     "metadata": {},
     "output_type": "display_data"
    },
    {
     "data": {
      "text/markdown": [
       "__Sensitivity:__ 7.27%"
      ],
      "text/plain": [
       "<IPython.core.display.Markdown object>"
      ]
     },
     "metadata": {},
     "output_type": "display_data"
    },
    {
     "data": {
      "text/markdown": [
       "__Specificity:__ 95.97%"
      ],
      "text/plain": [
       "<IPython.core.display.Markdown object>"
      ]
     },
     "metadata": {},
     "output_type": "display_data"
    },
    {
     "data": {
      "text/markdown": [
       "__Class 1 Precision:__ 16.64%"
      ],
      "text/plain": [
       "<IPython.core.display.Markdown object>"
      ]
     },
     "metadata": {},
     "output_type": "display_data"
    },
    {
     "data": {
      "text/markdown": [
       "__Class 1 Recall:__ 7.27%"
      ],
      "text/plain": [
       "<IPython.core.display.Markdown object>"
      ]
     },
     "metadata": {},
     "output_type": "display_data"
    },
    {
     "data": {
      "text/html": [
       "<div>\n",
       "<style scoped>\n",
       "    .dataframe tbody tr th:only-of-type {\n",
       "        vertical-align: middle;\n",
       "    }\n",
       "\n",
       "    .dataframe tbody tr th {\n",
       "        vertical-align: top;\n",
       "    }\n",
       "\n",
       "    .dataframe thead th {\n",
       "        text-align: right;\n",
       "    }\n",
       "</style>\n",
       "<table border=\"1\" class=\"dataframe\">\n",
       "  <thead>\n",
       "    <tr style=\"text-align: right;\">\n",
       "      <th></th>\n",
       "      <th>Condition Positive</th>\n",
       "      <th>Condition Negative</th>\n",
       "    </tr>\n",
       "  </thead>\n",
       "  <tbody>\n",
       "    <tr>\n",
       "      <td>Positive Prediction</td>\n",
       "      <td>127</td>\n",
       "      <td>636</td>\n",
       "    </tr>\n",
       "    <tr>\n",
       "      <td>Negative Prediction</td>\n",
       "      <td>1620</td>\n",
       "      <td>15132</td>\n",
       "    </tr>\n",
       "  </tbody>\n",
       "</table>\n",
       "</div>"
      ],
      "text/plain": [
       "                     Condition Positive  Condition Negative\n",
       "Positive Prediction                 127                 636\n",
       "Negative Prediction                1620               15132"
      ]
     },
     "metadata": {},
     "output_type": "display_data"
    },
    {
     "data": {
      "image/png": "[encoded data removed]",
      "text/plain": [
       "<Figure size 1080x540 with 2 Axes>"
      ]
     },
     "metadata": {
      "needs_background": "light"
     },
     "output_type": "display_data"
    }
   ],
   "source": [
    "data.evaluate(y_pred[:,1],plot_roc = True)"
   ]
  },
  {
   "cell_type": "markdown",
   "metadata": {},
   "source": [
    "# xgboost"
   ]
  },
  {
   "cell_type": "code",
   "execution_count": null,
   "metadata": {},
   "outputs": [],
   "source": [
    "import xgboost as xgb\n",
    "data = datasets.small.resplit(0.75,0,0.25)\n",
    "dtrain = xgb.DMatrix(data.train_split.X,data.train_split.y)\n",
    "dtest = xgb.DMatrix(data.test_split.X,data.test_split.y)\n",
    "params = {\n",
    "    # Parameters that we are going to tune.\n",
    "    'max_depth':6,\n",
    "    'min_child_weight': 1,\n",
    "    'eta':.3,\n",
    "    'subsample': 1,\n",
    "    'colsample_bytree': 1,\n",
    "    # Other parameters\n",
    "    'objective':'binary:logistic',\n",
    "}\n",
    "params['eval_metric'] = \"auc\"\n",
    "num_boost_round = 999"
   ]
  },
  {
   "cell_type": "code",
   "execution_count": null,
   "metadata": {},
   "outputs": [],
   "source": [
    "model = xgb.train(\n",
    "    params,\n",
    "    dtrain,\n",
    "    num_boost_round=num_boost_round,\n",
    "    evals=[(dtest, \"Test\")],\n",
    "    early_stopping_rounds=10\n",
    ")\n"
   ]
  },
  {
   "cell_type": "markdown",
   "metadata": {},
   "source": [
    "## max_depth and min_child_weigth"
   ]
  },
  {
   "cell_type": "code",
   "execution_count": 167,
   "metadata": {},
   "outputs": [],
   "source": [
    "gridsearch_params = [\n",
    "    (max_depth, min_child_weight)\n",
    "    for max_depth in range(9,12)\n",
    "    for min_child_weight in range(5,8)\n",
    "]"
   ]
  },
  {
   "cell_type": "code",
   "execution_count": null,
   "metadata": {},
   "outputs": [],
   "source": [
    "# Define initial best params and MAE\n",
    "min_auc = float(\"Inf\")\n",
    "best_params = None\n",
    "for max_depth, min_child_weight in gridsearch_params:\n",
    "    print(\"CV with max_depth={}, min_child_weight={}\".format(\n",
    "                             max_depth,\n",
    "                             min_child_weight))\n",
    "    # Update our parameters\n",
    "    params['max_depth'] = max_depth\n",
    "    params['min_child_weight'] = min_child_weight\n",
    "    # Run CV\n",
    "    cv_results = xgb.cv(\n",
    "        params,\n",
    "        dtrain,\n",
    "        num_boost_round=num_boost_round,\n",
    "        seed=42,\n",
    "        nfold=5,\n",
    "        metrics={'auc'},\n",
    "        early_stopping_rounds=10\n",
    "    )\n",
    "    # Update best MAE\n",
    "    mean_auc= cv_results['test-auc-mean'].min()\n",
    "    boost_rounds = cv_results['test-auc-mean'].idxmin()\n",
    "    print(\"\\tAUC {} for {} rounds\".format(mean_auc, boost_rounds))\n",
    "    if mean_auc < min_auc:\n",
    "        min_auc = mean_auc\n",
    "        best_params = (max_depth,min_child_weight)\n",
    "print(\"Best params: {}, {}, AUC: {}\".format(best_params[0], best_params[1], min_auc))"
   ]
  },
  {
   "cell_type": "code",
   "execution_count": null,
   "metadata": {},
   "outputs": [],
   "source": [
    "params['max_depth'] = 10\n",
    "params['min_child_weight'] = 6"
   ]
  },
  {
   "cell_type": "markdown",
   "metadata": {},
   "source": [
    "## Subsample and colsample"
   ]
  },
  {
   "cell_type": "code",
   "execution_count": null,
   "metadata": {},
   "outputs": [],
   "source": [
    "gridsearch_params = [\n",
    "    (subsample, colsample)\n",
    "    for subsample in [i/10. for i in range(7,11)]\n",
    "    for colsample in [i/10. for i in range(7,11)]\n",
    "]"
   ]
  },
  {
   "cell_type": "code",
   "execution_count": null,
   "metadata": {},
   "outputs": [],
   "source": [
    "min_auc = float(\"Inf\")\n",
    "best_params = None\n",
    "# We start by the largest values and go down to the smallest\n",
    "for subsample, colsample in reversed(gridsearch_params):\n",
    "    print(\"CV with subsample={}, colsample={}\".format(\n",
    "                             subsample,\n",
    "                             colsample))\n",
    "    # We update our parameters\n",
    "    params['subsample'] = subsample\n",
    "    params['colsample_bytree'] = colsample\n",
    "    # Run CV\n",
    "    cv_results = xgb.cv(\n",
    "        params,\n",
    "        dtrain,\n",
    "        num_boost_round=num_boost_round,\n",
    "        seed=42,\n",
    "        nfold=5,\n",
    "        metrics={'auc'},\n",
    "        early_stopping_rounds=10\n",
    "    )\n",
    "    # Update best score\n",
    "    mean_auc = cv_results['test-auc-mean'].min()\n",
    "    boost_rounds = cv_results['test-auc-mean'].argmin()\n",
    "    print(\"\\tAUC {} for {} rounds\".format(mean_auc, boost_rounds))\n",
    "    if mean_auc < min_auc:\n",
    "        min_auc = mean_auc\n",
    "        best_params = (subsample,colsample)\n",
    "print(\"Best params: {}, {}, MAE: {}\".format(best_params[0], best_params[1], min_auc))"
   ]
  },
  {
   "cell_type": "code",
   "execution_count": null,
   "metadata": {},
   "outputs": [],
   "source": [
    "params['subsample'] = .8\n",
    "params['colsample_bytree'] = 1."
   ]
  },
  {
   "cell_type": "markdown",
   "metadata": {},
   "source": [
    "## Learning rate"
   ]
  },
  {
   "cell_type": "code",
   "execution_count": null,
   "metadata": {},
   "outputs": [],
   "source": [
    "min_auc = float(\"Inf\")\n",
    "best_params = None\n",
    "for eta in [.3, .2, .1, .05, .01, .005]:\n",
    "    print(\"CV with eta={}\".format(eta))\n",
    "    # We update our parameters\n",
    "    params['eta'] = eta\n",
    "    # Run and time CV\n",
    "    %time cv_results = xgb.cv(\n",
    "            params,\n",
    "            dtrain,\n",
    "            num_boost_round=num_boost_round,\n",
    "            seed=42,\n",
    "            nfold=5,\n",
    "            metrics=['auc'],\n",
    "            early_stopping_rounds=10\n",
    "          )\n",
    "    # Update best score\n",
    "    mean_auc = cv_results['test-auc-mean'].min()\n",
    "    boost_rounds = cv_results['test-auc-mean'].argmin()\n",
    "    print(\"\\tAUC {} for {} rounds\\n\".format(mean_auc, boost_rounds))\n",
    "    if mean_auc < min_auc:\n",
    "        min_auc= mean_auc\n",
    "        best_params = eta\n",
    "print(\"Best params: {}, AUC: {}\".format(best_params, min_auc))"
   ]
  },
  {
   "cell_type": "code",
   "execution_count": null,
   "metadata": {},
   "outputs": [],
   "source": [
    "params['eta'] = .01"
   ]
  },
  {
   "cell_type": "markdown",
   "metadata": {},
   "source": [
    "## Results"
   ]
  },
  {
   "cell_type": "code",
   "execution_count": null,
   "metadata": {},
   "outputs": [],
   "source": [
    "\n",
    "params = {\n",
    "    'max_depth':10,\n",
    "    'eta':.01,\n",
    "    'subsample': 0.8,\n",
    "    'eval_metric': 'auc',\n",
    "    'min_child_weight': 6,\n",
    "    'colsample_bytree': 1.0,\n",
    "    'objective':'binary:logistic'\n",
    "}"
   ]
  },
  {
   "cell_type": "code",
   "execution_count": null,
   "metadata": {},
   "outputs": [],
   "source": [
    "model = xgb.train(\n",
    "    params,\n",
    "    dtrain,\n",
    "    num_boost_round=num_boost_round,\n",
    "    evals=[(dtest, \"Test\")],\n",
    "    early_stopping_rounds=10\n",
    ")"
   ]
  },
  {
   "cell_type": "code",
   "execution_count": null,
   "metadata": {},
   "outputs": [],
   "source": [
    "model2 = xgb.train(\n",
    "    params,\n",
    "    dtrain,\n",
    "    num_boost_round=num_boost_round,\n",
    "    evals=[(dtest, \"Test\")],\n",
    "    early_stopping_rounds=10,\n",
    "    xgb_model=model\n",
    ")"
   ]
  },
  {
   "cell_type": "code",
   "execution_count": null,
   "metadata": {},
   "outputs": [],
   "source": [
    "y_pred = model2.predict(dtest)\n",
    "data.evaluate(y_pred,plot_roc = True)"
   ]
  },
  {
   "cell_type": "markdown",
   "metadata": {},
   "source": [
    "# NN\n",
    "\n",
    "## Model"
   ]
  },
  {
   "cell_type": "code",
   "execution_count": 157,
   "metadata": {},
   "outputs": [],
   "source": [
    "import tensorflow as tf\n",
    "from tensorflow.keras.models import Sequential\n",
    "from tensorflow.keras.layers import Dense, BatchNormalization, Activation, Dropout\n",
    "from tensorflow.keras.callbacks import EarlyStopping, ModelCheckpoint, ReduceLROnPlateau\n",
    "\n",
    "def build_model():\n",
    "    model = Sequential()\n",
    "    model.add(Dense(256, input_shape = (200,)))\n",
    "    model.add(BatchNormalization(momentum = 0.9))\n",
    "    model.add(Activation(\"relu\"))\n",
    "    model.add(Dropout(0.2))\n",
    "    model.add(Dense(512))\n",
    "    model.add(BatchNormalization(momentum = 0.9))\n",
    "    model.add(Activation(\"relu\"))\n",
    "    model.add(Dropout(0.2))\n",
    "    model.add(Dense(1024))\n",
    "    model.add(BatchNormalization(momentum = 0.9))\n",
    "    model.add(Activation(\"relu\"))\n",
    "    model.add(Dropout(0.2))\n",
    "    model.add(Dense(2048))\n",
    "    model.add(BatchNormalization(momentum = 0.9))\n",
    "    model.add(Activation(\"relu\"))\n",
    "    model.add(Dropout(0.2))\n",
    "    model.add(Dense(2048))\n",
    "    model.add(BatchNormalization(momentum = 0.9))\n",
    "    model.add(Activation(\"relu\"))\n",
    "    model.add(Dropout(0.2))\n",
    "    model.add(Dense(2048))\n",
    "    model.add(BatchNormalization(momentum = 0.9))\n",
    "    model.add(Activation(\"relu\"))\n",
    "    model.add(Dropout(0.2))\n",
    "    model.add(Dense(2048))\n",
    "    model.add(BatchNormalization(momentum = 0.9))\n",
    "    model.add(Activation(\"relu\"))\n",
    "    model.add(Dropout(0.2))\n",
    "    model.add(Dense(2048))\n",
    "    model.add(BatchNormalization(momentum = 0.9))\n",
    "    model.add(Activation(\"relu\"))\n",
    "    model.add(Dropout(0.2))\n",
    "    model.add(Dense(1024))\n",
    "    model.add(BatchNormalization(momentum = 0.9))\n",
    "    model.add(Activation(\"relu\"))\n",
    "    model.add(Dropout(0.2))\n",
    "    model.add(Dense(512))\n",
    "    model.add(BatchNormalization(momentum = 0.9))\n",
    "    model.add(Activation(\"relu\"))\n",
    "    model.add(Dropout(0.2))\n",
    "    model.add(Dense(256))\n",
    "    model.add(BatchNormalization(momentum = 0.9))\n",
    "    model.add(Activation(\"relu\"))\n",
    "    model.add(Dropout(0.2))\n",
    "    model.add(Dense(128, activation = \"relu\"))\n",
    "    model.add(Dense(1, activation='sigmoid'))\n",
    "    # Compile model\n",
    "    model.compile(loss='binary_crossentropy', optimizer='adam', metrics=[tf.keras.metrics.AUC()])\n",
    "    return(model)"
   ]
  },
  {
   "cell_type": "code",
   "execution_count": 158,
   "metadata": {},
   "outputs": [
    {
     "name": "stdout",
     "output_type": "stream",
     "text": [
      "Model: \"sequential\"\n",
      "_________________________________________________________________\n",
      "Layer (type)                 Output Shape              Param #   \n",
      "=================================================================\n",
      "dense (Dense)                (None, 256)               51456     \n",
      "_________________________________________________________________\n",
      "batch_normalization (BatchNo (None, 256)               1024      \n",
      "_________________________________________________________________\n",
      "activation (Activation)      (None, 256)               0         \n",
      "_________________________________________________________________\n",
      "dropout (Dropout)            (None, 256)               0         \n",
      "_________________________________________________________________\n",
      "dense_1 (Dense)              (None, 512)               131584    \n",
      "_________________________________________________________________\n",
      "batch_normalization_1 (Batch (None, 512)               2048      \n",
      "_________________________________________________________________\n",
      "activation_1 (Activation)    (None, 512)               0         \n",
      "_________________________________________________________________\n",
      "dropout_1 (Dropout)          (None, 512)               0         \n",
      "_________________________________________________________________\n",
      "dense_2 (Dense)              (None, 1024)              525312    \n",
      "_________________________________________________________________\n",
      "batch_normalization_2 (Batch (None, 1024)              4096      \n",
      "_________________________________________________________________\n",
      "activation_2 (Activation)    (None, 1024)              0         \n",
      "_________________________________________________________________\n",
      "dropout_2 (Dropout)          (None, 1024)              0         \n",
      "_________________________________________________________________\n",
      "dense_3 (Dense)              (None, 2048)              2099200   \n",
      "_________________________________________________________________\n",
      "batch_normalization_3 (Batch (None, 2048)              8192      \n",
      "_________________________________________________________________\n",
      "activation_3 (Activation)    (None, 2048)              0         \n",
      "_________________________________________________________________\n",
      "dropout_3 (Dropout)          (None, 2048)              0         \n",
      "_________________________________________________________________\n",
      "dense_4 (Dense)              (None, 2048)              4196352   \n",
      "_________________________________________________________________\n",
      "batch_normalization_4 (Batch (None, 2048)              8192      \n",
      "_________________________________________________________________\n",
      "activation_4 (Activation)    (None, 2048)              0         \n",
      "_________________________________________________________________\n",
      "dropout_4 (Dropout)          (None, 2048)              0         \n",
      "_________________________________________________________________\n",
      "dense_5 (Dense)              (None, 2048)              4196352   \n",
      "_________________________________________________________________\n",
      "batch_normalization_5 (Batch (None, 2048)              8192      \n",
      "_________________________________________________________________\n",
      "activation_5 (Activation)    (None, 2048)              0         \n",
      "_________________________________________________________________\n",
      "dropout_5 (Dropout)          (None, 2048)              0         \n",
      "_________________________________________________________________\n",
      "dense_6 (Dense)              (None, 2048)              4196352   \n",
      "_________________________________________________________________\n",
      "batch_normalization_6 (Batch (None, 2048)              8192      \n",
      "_________________________________________________________________\n",
      "activation_6 (Activation)    (None, 2048)              0         \n",
      "_________________________________________________________________\n",
      "dropout_6 (Dropout)          (None, 2048)              0         \n",
      "_________________________________________________________________\n",
      "dense_7 (Dense)              (None, 2048)              4196352   \n",
      "_________________________________________________________________\n",
      "batch_normalization_7 (Batch (None, 2048)              8192      \n",
      "_________________________________________________________________\n",
      "activation_7 (Activation)    (None, 2048)              0         \n",
      "_________________________________________________________________\n",
      "dropout_7 (Dropout)          (None, 2048)              0         \n",
      "_________________________________________________________________\n",
      "dense_8 (Dense)              (None, 1024)              2098176   \n",
      "_________________________________________________________________\n",
      "batch_normalization_8 (Batch (None, 1024)              4096      \n",
      "_________________________________________________________________\n",
      "activation_8 (Activation)    (None, 1024)              0         \n",
      "_________________________________________________________________\n",
      "dropout_8 (Dropout)          (None, 1024)              0         \n",
      "_________________________________________________________________\n",
      "dense_9 (Dense)              (None, 512)               524800    \n",
      "_________________________________________________________________\n",
      "batch_normalization_9 (Batch (None, 512)               2048      \n",
      "_________________________________________________________________\n",
      "activation_9 (Activation)    (None, 512)               0         \n",
      "_________________________________________________________________\n",
      "dropout_9 (Dropout)          (None, 512)               0         \n",
      "_________________________________________________________________\n",
      "dense_10 (Dense)             (None, 256)               131328    \n",
      "_________________________________________________________________\n",
      "batch_normalization_10 (Batc (None, 256)               1024      \n",
      "_________________________________________________________________\n",
      "activation_10 (Activation)   (None, 256)               0         \n",
      "_________________________________________________________________\n",
      "dropout_10 (Dropout)         (None, 256)               0         \n",
      "_________________________________________________________________\n",
      "dense_11 (Dense)             (None, 128)               32896     \n",
      "_________________________________________________________________\n",
      "dense_12 (Dense)             (None, 1)                 129       \n",
      "=================================================================\n",
      "Total params: 22,435,585\n",
      "Trainable params: 22,407,937\n",
      "Non-trainable params: 27,648\n",
      "_________________________________________________________________\n"
     ]
    }
   ],
   "source": [
    "tf.keras.backend.clear_session()\n",
    "model = build_model()\n",
    "tf.keras.backend.clear_session()\n",
    "model2 = build_model()\n",
    "model.summary()"
   ]
  },
  {
   "cell_type": "markdown",
   "metadata": {},
   "source": [
    "## Data prepo"
   ]
  },
  {
   "cell_type": "code",
   "execution_count": 53,
   "metadata": {},
   "outputs": [],
   "source": [
    "from datasets import get_datasets\n",
    "datasets = get_datasets()"
   ]
  },
  {
   "cell_type": "code",
   "execution_count": 150,
   "metadata": {},
   "outputs": [],
   "source": [
    "data = datasets.small.resplit(0.7,0.15,0.15)"
   ]
  },
  {
   "cell_type": "code",
   "execution_count": 151,
   "metadata": {},
   "outputs": [],
   "source": [
    "data2 = datasets.small.resplit(0.7,0.15,0.15)\n",
    "os = SMOTE(random_state=0)\n",
    "os_features_train, os_response_train = os.fit_sample(data2.train_split.X, data2.train_split.y)\n",
    "os_features_val, os_response_val = os.fit_sample(data2.val_split.X, data2.val_split.y)\n",
    "from datasets import xy\n",
    "data2.train_split = xy(X = os_features_train, y = os_response_train)\n",
    "data2.val_split = xy(X = os_features_val, y = os_response_val)"
   ]
  },
  {
   "cell_type": "code",
   "execution_count": 152,
   "metadata": {},
   "outputs": [
    {
     "data": {
      "text/markdown": [
       "### DataSet summary\n",
       "\n",
       "__Train size:__ 70057 __Class balance:__ 90.03% / 10.0%\n",
       "\n",
       "#### Sub-splits\n",
       "\n",
       "__Train, validation, test split__ = (0.7, 0.15, 0.15)\n",
       "\n",
       "__Train split size:__ 88296 __Class balance:__ 50.00% / 50.0%\n",
       "\n",
       "__Validation split size:__ 18922 __Class balance:__ 50.00% / 50.0%\n",
       "\n",
       "__Test split size:__ 10509 __Class balance:__ 90.03% / 10.0%"
      ],
      "text/plain": [
       "<IPython.core.display.Markdown object>"
      ]
     },
     "execution_count": 152,
     "metadata": {},
     "output_type": "execute_result"
    }
   ],
   "source": [
    "data2.summary()"
   ]
  },
  {
   "cell_type": "code",
   "execution_count": 55,
   "metadata": {},
   "outputs": [],
   "source": [
    "from multiprocessing import Pool\n",
    "\n",
    "from feature_engineering import categorical_feature\n",
    "\n",
    "def categorical_uniqueness(dataset):\n",
    "    train = dataset.all_train\n",
    "    test = dataset.unlabeled_test\n",
    "    \n",
    "    train_iterable = zip(\n",
    "        train.X.columns,\n",
    "        train.X.to_numpy().T,\n",
    "        train.X.to_numpy().T,\n",
    "        test.X.to_numpy().T,\n",
    "        [train.y.to_numpy()] * 200,\n",
    "        [True] * 200,\n",
    "    )\n",
    "    pool = Pool()\n",
    "    new_train_columns = {}\n",
    "    for result in pool.imap(categorical_feature, train_iterable):\n",
    "        print(f\"Finished processing: {result[0]} (TRAIN)\", end=\"\\r\")\n",
    "        new_train_columns[result[0]] = result[1]\n",
    "        \n",
    "    test_iterable = zip(\n",
    "        train.X.columns,\n",
    "        test.X.to_numpy().T,\n",
    "        train.X.to_numpy().T,\n",
    "        test.X.to_numpy().T,\n",
    "        [train.y.to_numpy()] * 200,\n",
    "        [False] * 200,\n",
    "    )\n",
    "    pool = Pool()\n",
    "    new_test_columns = {}\n",
    "    for result in pool.imap(categorical_feature, test_iterable):\n",
    "        print(f\"Finished processing: {result[0]} (TEST)\", end=\"\\r\")\n",
    "        new_test_columns[result[0]] = result[1]\n",
    "        \n",
    "    return (\n",
    "        pd.DataFrame.from_dict(new_train_columns),\n",
    "        pd.DataFrame.from_dict(new_test_columns),\n",
    "    )"
   ]
  },
  {
   "cell_type": "code",
   "execution_count": null,
   "metadata": {},
   "outputs": [],
   "source": [
    "categorical_train_columns, categorical_test_columns = categorical_uniqueness(data)"
   ]
  },
  {
   "cell_type": "code",
   "execution_count": null,
   "metadata": {},
   "outputs": [],
   "source": [
    "new_train = train_small.copy()\n",
    "for column_name in categorical_train_columns.columns:\n",
    "    new_train[column_name] = categorical_train_columns[column_name]\n",
    "\n",
    "new_test = test_small.copy()\n",
    "for column_name in categorical_test_columns.columns:\n",
    "    new_test[column_name] = categorical_test_columns[column_name]\n",
    "    \n",
    "engineered_dataset = ds.DataSet(train=new_train, test=new_test)"
   ]
  },
  {
   "cell_type": "code",
   "execution_count": 153,
   "metadata": {},
   "outputs": [],
   "source": [
    "x_train = data.train_split.X.to_numpy()\n",
    "y_train = data.train_split.y.to_numpy()\n",
    "x_valid = data.val_split.X.to_numpy()\n",
    "y_valid = data.val_split.y.to_numpy()\n",
    "x_test = data.test_split.X.to_numpy()\n",
    "y_test = data.test_split.y.to_numpy()\n",
    "x_train2 = data2.train_split.X\n",
    "y_train2 = data2.train_split.y\n",
    "x_val2 = data2.val_split.X\n",
    "y_val2 = data2.val_split.y"
   ]
  },
  {
   "cell_type": "code",
   "execution_count": 105,
   "metadata": {},
   "outputs": [
    {
     "data": {
      "text/plain": [
       "StandardScaler(copy=True, with_mean=True, with_std=True)"
      ]
     },
     "execution_count": 105,
     "metadata": {},
     "output_type": "execute_result"
    }
   ],
   "source": [
    "from sklearn.preprocessing import StandardScaler\n",
    "scaler = StandardScaler()\n",
    "scaler.fit(x_train)"
   ]
  },
  {
   "cell_type": "code",
   "execution_count": null,
   "metadata": {},
   "outputs": [],
   "source": [
    "x_train = scaler.transform(x_train)\n",
    "x_valid = scaler.transform(x_valid)\n",
    "x_test = scaler.transform(x_test)"
   ]
  },
  {
   "cell_type": "code",
   "execution_count": 154,
   "metadata": {},
   "outputs": [],
   "source": [
    "callbacks = [\n",
    "    EarlyStopping(monitor='val_auc', patience=3, mode = 'max'),\n",
    "    ModelCheckpoint(filepath='../project/models/best_val_weights1.h5', save_best_only=True, monitor='val_auc', verbose=1, mode = 'max'),\n",
    "    ReduceLROnPlateau(monitor='val_auc', factor=0.2, patience=1, min_lr=0.001, mode = 'max',verbose = 1)\n",
    "]\n",
    "callbacks2 = [\n",
    "    EarlyStopping(monitor='val_auc', patience=3, mode = 'max'),\n",
    "    ModelCheckpoint(filepath='../project/models/best_val_weights2.h5', save_best_only=True, monitor='val_auc', verbose=1, mode = 'max'),\n",
    "    ReduceLROnPlateau(monitor='val_auc', factor=0.2, patience=1, min_lr=0.001, mode = 'max',verbose = 1)\n",
    "]"
   ]
  },
  {
   "cell_type": "markdown",
   "metadata": {},
   "source": [
    "## Fit"
   ]
  },
  {
   "cell_type": "code",
   "execution_count": 159,
   "metadata": {},
   "outputs": [
    {
     "name": "stdout",
     "output_type": "stream",
     "text": [
      "Train on 49039 samples, validate on 10509 samples\n",
      "Epoch 1/50\n",
      "49024/49039 [============================>.] - ETA: 0s - loss: 0.2962 - auc: 0.7262\n",
      "Epoch 00001: val_auc did not improve from 0.84106\n",
      "49039/49039 [==============================] - 126s 3ms/sample - loss: 0.2961 - auc: 0.7262 - val_loss: 0.2523 - val_auc: 0.8305\n",
      "Epoch 2/50\n",
      "49024/49039 [============================>.] - ETA: 0s - loss: 0.2632 - auc: 0.8062\n",
      "Epoch 00002: val_auc did not improve from 0.84106\n",
      "49039/49039 [==============================] - 128s 3ms/sample - loss: 0.2632 - auc: 0.8063 - val_loss: 0.2467 - val_auc: 0.8347\n",
      "Epoch 3/50\n",
      "49024/49039 [============================>.] - ETA: 0s - loss: 0.2523 - auc: 0.8278\n",
      "Epoch 00003: val_auc did not improve from 0.84106\n",
      "49039/49039 [==============================] - 127s 3ms/sample - loss: 0.2523 - auc: 0.8277 - val_loss: 0.2444 - val_auc: 0.8355\n",
      "Epoch 4/50\n",
      "49024/49039 [============================>.] - ETA: 0s - loss: 0.2486 - auc: 0.8354\n",
      "Epoch 00004: val_auc improved from 0.84106 to 0.84844, saving model to ../project/models/best_val_weights1.h5\n",
      "49039/49039 [==============================] - 153s 3ms/sample - loss: 0.2486 - auc: 0.8354 - val_loss: 0.2400 - val_auc: 0.8484\n",
      "Epoch 5/50\n",
      "49024/49039 [============================>.] - ETA: 0s - loss: 0.2420 - auc: 0.8483\n",
      "Epoch 00005: val_auc improved from 0.84844 to 0.85282, saving model to ../project/models/best_val_weights1.h5\n",
      "49039/49039 [==============================] - 154s 3ms/sample - loss: 0.2419 - auc: 0.8483 - val_loss: 0.2379 - val_auc: 0.8528\n",
      "Epoch 6/50\n",
      "49024/49039 [============================>.] - ETA: 0s - loss: 0.2352 - auc: 0.8609\n",
      "Epoch 00006: val_auc did not improve from 0.85282\n",
      "\n",
      "Epoch 00006: ReduceLROnPlateau reducing learning rate to 0.001.\n",
      "49039/49039 [==============================] - 128s 3ms/sample - loss: 0.2352 - auc: 0.8609 - val_loss: 0.2407 - val_auc: 0.8450\n",
      "Epoch 7/50\n",
      "49024/49039 [============================>.] - ETA: 0s - loss: 0.2302 - auc: 0.8692\n",
      "Epoch 00007: val_auc improved from 0.85282 to 0.85354, saving model to ../project/models/best_val_weights1.h5\n",
      "49039/49039 [==============================] - 153s 3ms/sample - loss: 0.2302 - auc: 0.8693 - val_loss: 0.2361 - val_auc: 0.8535\n",
      "Epoch 8/50\n",
      "49024/49039 [============================>.] - ETA: 0s - loss: 0.2226 - auc: 0.8802\n",
      "Epoch 00008: val_auc did not improve from 0.85354\n",
      "\n",
      "Epoch 00008: ReduceLROnPlateau reducing learning rate to 0.001.\n",
      "49039/49039 [==============================] - 129s 3ms/sample - loss: 0.2226 - auc: 0.8802 - val_loss: 0.2383 - val_auc: 0.8525\n",
      "Epoch 9/50\n",
      "49024/49039 [============================>.] - ETA: 0s - loss: 0.2190 - auc: 0.8861\n",
      "Epoch 00009: val_auc did not improve from 0.85354\n",
      "\n",
      "Epoch 00009: ReduceLROnPlateau reducing learning rate to 0.001.\n",
      "49039/49039 [==============================] - 129s 3ms/sample - loss: 0.2191 - auc: 0.8861 - val_loss: 0.2390 - val_auc: 0.8531\n",
      "Epoch 10/50\n",
      "49024/49039 [============================>.] - ETA: 0s - loss: 0.2115 - auc: 0.8964\n",
      "Epoch 00010: val_auc did not improve from 0.85354\n",
      "\n",
      "Epoch 00010: ReduceLROnPlateau reducing learning rate to 0.001.\n",
      "49039/49039 [==============================] - 126s 3ms/sample - loss: 0.2116 - auc: 0.8963 - val_loss: 0.2409 - val_auc: 0.8509\n"
     ]
    }
   ],
   "source": [
    "history = model.fit(x_train, y_train,\n",
    "                    batch_size=32,\n",
    "                    epochs=50,\n",
    "                    validation_data = (x_valid, y_valid),\n",
    "                    callbacks = callbacks\n",
    ")"
   ]
  },
  {
   "cell_type": "code",
   "execution_count": 160,
   "metadata": {},
   "outputs": [
    {
     "name": "stdout",
     "output_type": "stream",
     "text": [
      "Train on 88296 samples, validate on 18922 samples\n",
      "Epoch 1/50\n",
      "88288/88296 [============================>.] - ETA: 0s - loss: 0.4019 - auc: 0.8993\n",
      "Epoch 00001: val_auc improved from 0.88462 to 0.91672, saving model to ../project/models/best_val_weights2.h5\n",
      "88296/88296 [==============================] - 258s 3ms/sample - loss: 0.4018 - auc: 0.8993 - val_loss: 0.3692 - val_auc: 0.9167\n",
      "Epoch 2/50\n",
      "88288/88296 [============================>.] - ETA: 0s - loss: 0.3144 - auc: 0.9393\n",
      "Epoch 00002: val_auc did not improve from 0.91672\n",
      "\n",
      "Epoch 00002: ReduceLROnPlateau reducing learning rate to 0.001.\n",
      "88296/88296 [==============================] - 234s 3ms/sample - loss: 0.3144 - auc: 0.9393 - val_loss: 0.3735 - val_auc: 0.9160\n",
      "Epoch 3/50\n",
      "88288/88296 [============================>.] - ETA: 0s - loss: 0.2780 - auc: 0.9526\n",
      "Epoch 00003: val_auc improved from 0.91672 to 0.91680, saving model to ../project/models/best_val_weights2.h5\n",
      "\n",
      "Epoch 00003: ReduceLROnPlateau reducing learning rate to 0.001.\n",
      "88296/88296 [==============================] - 256s 3ms/sample - loss: 0.2780 - auc: 0.9526 - val_loss: 0.3949 - val_auc: 0.9168\n",
      "Epoch 4/50\n",
      "88288/88296 [============================>.] - ETA: 0s - loss: 0.2479 - auc: 0.9621\n",
      "Epoch 00004: val_auc improved from 0.91680 to 0.91918, saving model to ../project/models/best_val_weights2.h5\n",
      "88296/88296 [==============================] - 258s 3ms/sample - loss: 0.2480 - auc: 0.9621 - val_loss: 0.4031 - val_auc: 0.9192\n",
      "Epoch 5/50\n",
      "88288/88296 [============================>.] - ETA: 0s - loss: 0.2311 - auc: 0.9670\n",
      "Epoch 00005: val_auc did not improve from 0.91918\n",
      "\n",
      "Epoch 00005: ReduceLROnPlateau reducing learning rate to 0.001.\n",
      "88296/88296 [==============================] - 232s 3ms/sample - loss: 0.2311 - auc: 0.9670 - val_loss: 0.4295 - val_auc: 0.9181\n",
      "Epoch 6/50\n",
      "88288/88296 [============================>.] - ETA: 0s - loss: 0.2114 - auc: 0.9725\n",
      "Epoch 00006: val_auc improved from 0.91918 to 0.92017, saving model to ../project/models/best_val_weights2.h5\n",
      "88296/88296 [==============================] - 252s 3ms/sample - loss: 0.2114 - auc: 0.9725 - val_loss: 0.4197 - val_auc: 0.9202\n",
      "Epoch 7/50\n",
      "88288/88296 [============================>.] - ETA: 0s - loss: 0.1967 - auc: 0.9760\n",
      "Epoch 00007: val_auc did not improve from 0.92017\n",
      "\n",
      "Epoch 00007: ReduceLROnPlateau reducing learning rate to 0.001.\n",
      "88296/88296 [==============================] - 231s 3ms/sample - loss: 0.1967 - auc: 0.9760 - val_loss: 0.4423 - val_auc: 0.9158\n",
      "Epoch 8/50\n",
      "88288/88296 [============================>.] - ETA: 0s - loss: 0.1865 - auc: 0.9784\n",
      "Epoch 00008: val_auc did not improve from 0.92017\n",
      "\n",
      "Epoch 00008: ReduceLROnPlateau reducing learning rate to 0.001.\n",
      "88296/88296 [==============================] - 247s 3ms/sample - loss: 0.1865 - auc: 0.9784 - val_loss: 0.4624 - val_auc: 0.9190\n",
      "Epoch 9/50\n",
      "88288/88296 [============================>.] - ETA: 0s - loss: 0.1716 - auc: 0.9816\n",
      "Epoch 00009: val_auc did not improve from 0.92017\n",
      "\n",
      "Epoch 00009: ReduceLROnPlateau reducing learning rate to 0.001.\n",
      "88296/88296 [==============================] - 243s 3ms/sample - loss: 0.1716 - auc: 0.9816 - val_loss: 0.4847 - val_auc: 0.9143\n"
     ]
    }
   ],
   "source": [
    "history2 = model2.fit(x_train2, y_train2,\n",
    "                    batch_size=32,\n",
    "                    epochs=50,\n",
    "                    validation_data = (x_val2, y_val2),\n",
    "                    callbacks = callbacks2\n",
    ")"
   ]
  },
  {
   "cell_type": "code",
   "execution_count": 161,
   "metadata": {},
   "outputs": [],
   "source": [
    "model.load_weights(\"../project/models/best_val_weights1.h5\")\n",
    "model2.load_weights(\"../project/models/best_val_weights2.h5\")"
   ]
  },
  {
   "cell_type": "code",
   "execution_count": 162,
   "metadata": {},
   "outputs": [],
   "source": [
    "y_pred1 = model.predict(x_test)\n",
    "y_pred2 = model2.predict(x_test)"
   ]
  },
  {
   "cell_type": "code",
   "execution_count": 163,
   "metadata": {},
   "outputs": [
    {
     "data": {
      "text/markdown": [
       "### Evaluation Report"
      ],
      "text/plain": [
       "<IPython.core.display.Markdown object>"
      ]
     },
     "metadata": {},
     "output_type": "display_data"
    },
    {
     "data": {
      "text/markdown": [
       "__PRC AUC Score:__ 0.47715"
      ],
      "text/plain": [
       "<IPython.core.display.Markdown object>"
      ]
     },
     "metadata": {},
     "output_type": "display_data"
    },
    {
     "data": {
      "text/markdown": [
       "__ROC AUC Score:__ 0.84832\n"
      ],
      "text/plain": [
       "<IPython.core.display.Markdown object>"
      ]
     },
     "metadata": {},
     "output_type": "display_data"
    },
    {
     "data": {
      "text/markdown": [
       "\n",
       "_Following statistics calculated with cut-off = 0.5_"
      ],
      "text/plain": [
       "<IPython.core.display.Markdown object>"
      ]
     },
     "metadata": {},
     "output_type": "display_data"
    },
    {
     "data": {
      "text/markdown": [
       "__Accuracy:__ 91.26%"
      ],
      "text/plain": [
       "<IPython.core.display.Markdown object>"
      ]
     },
     "metadata": {},
     "output_type": "display_data"
    },
    {
     "data": {
      "text/markdown": [
       "__Balanced Accuracy:__ 61.63%\n"
      ],
      "text/plain": [
       "<IPython.core.display.Markdown object>"
      ]
     },
     "metadata": {},
     "output_type": "display_data"
    },
    {
     "data": {
      "text/markdown": [
       "__Sensitivity:__ 24.62%"
      ],
      "text/plain": [
       "<IPython.core.display.Markdown object>"
      ]
     },
     "metadata": {},
     "output_type": "display_data"
    },
    {
     "data": {
      "text/markdown": [
       "__Specificity:__ 98.64%"
      ],
      "text/plain": [
       "<IPython.core.display.Markdown object>"
      ]
     },
     "metadata": {},
     "output_type": "display_data"
    },
    {
     "data": {
      "text/markdown": [
       "__Class 1 Precision:__ 66.67%"
      ],
      "text/plain": [
       "<IPython.core.display.Markdown object>"
      ]
     },
     "metadata": {},
     "output_type": "display_data"
    },
    {
     "data": {
      "text/markdown": [
       "__Class 1 Recall:__ 24.62%"
      ],
      "text/plain": [
       "<IPython.core.display.Markdown object>"
      ]
     },
     "metadata": {},
     "output_type": "display_data"
    },
    {
     "data": {
      "text/html": [
       "<div>\n",
       "<style scoped>\n",
       "    .dataframe tbody tr th:only-of-type {\n",
       "        vertical-align: middle;\n",
       "    }\n",
       "\n",
       "    .dataframe tbody tr th {\n",
       "        vertical-align: top;\n",
       "    }\n",
       "\n",
       "    .dataframe thead th {\n",
       "        text-align: right;\n",
       "    }\n",
       "</style>\n",
       "<table border=\"1\" class=\"dataframe\">\n",
       "  <thead>\n",
       "    <tr style=\"text-align: right;\">\n",
       "      <th></th>\n",
       "      <th>Condition Positive</th>\n",
       "      <th>Condition Negative</th>\n",
       "    </tr>\n",
       "  </thead>\n",
       "  <tbody>\n",
       "    <tr>\n",
       "      <td>Positive Prediction</td>\n",
       "      <td>258</td>\n",
       "      <td>129</td>\n",
       "    </tr>\n",
       "    <tr>\n",
       "      <td>Negative Prediction</td>\n",
       "      <td>790</td>\n",
       "      <td>9332</td>\n",
       "    </tr>\n",
       "  </tbody>\n",
       "</table>\n",
       "</div>"
      ],
      "text/plain": [
       "                     Condition Positive  Condition Negative\n",
       "Positive Prediction                 258                 129\n",
       "Negative Prediction                 790                9332"
      ]
     },
     "metadata": {},
     "output_type": "display_data"
    },
    {
     "data": {
      "image/png": "[encoded data removed]",
      "text/plain": [
       "<Figure size 1080x540 with 2 Axes>"
      ]
     },
     "metadata": {
      "needs_background": "light"
     },
     "output_type": "display_data"
    }
   ],
   "source": [
    "data.evaluate(y_pred1[:,0],plot_roc = True)"
   ]
  },
  {
   "cell_type": "code",
   "execution_count": 164,
   "metadata": {},
   "outputs": [
    {
     "data": {
      "text/markdown": [
       "### Evaluation Report"
      ],
      "text/plain": [
       "<IPython.core.display.Markdown object>"
      ]
     },
     "metadata": {},
     "output_type": "display_data"
    },
    {
     "data": {
      "text/markdown": [
       "__PRC AUC Score:__ 0.28202"
      ],
      "text/plain": [
       "<IPython.core.display.Markdown object>"
      ]
     },
     "metadata": {},
     "output_type": "display_data"
    },
    {
     "data": {
      "text/markdown": [
       "__ROC AUC Score:__ 0.76694\n"
      ],
      "text/plain": [
       "<IPython.core.display.Markdown object>"
      ]
     },
     "metadata": {},
     "output_type": "display_data"
    },
    {
     "data": {
      "text/markdown": [
       "\n",
       "_Following statistics calculated with cut-off = 0.5_"
      ],
      "text/plain": [
       "<IPython.core.display.Markdown object>"
      ]
     },
     "metadata": {},
     "output_type": "display_data"
    },
    {
     "data": {
      "text/markdown": [
       "__Accuracy:__ 85.56%"
      ],
      "text/plain": [
       "<IPython.core.display.Markdown object>"
      ]
     },
     "metadata": {},
     "output_type": "display_data"
    },
    {
     "data": {
      "text/markdown": [
       "__Balanced Accuracy:__ 63.26%\n"
      ],
      "text/plain": [
       "<IPython.core.display.Markdown object>"
      ]
     },
     "metadata": {},
     "output_type": "display_data"
    },
    {
     "data": {
      "text/markdown": [
       "__Sensitivity:__ 35.40%"
      ],
      "text/plain": [
       "<IPython.core.display.Markdown object>"
      ]
     },
     "metadata": {},
     "output_type": "display_data"
    },
    {
     "data": {
      "text/markdown": [
       "__Specificity:__ 91.11%"
      ],
      "text/plain": [
       "<IPython.core.display.Markdown object>"
      ]
     },
     "metadata": {},
     "output_type": "display_data"
    },
    {
     "data": {
      "text/markdown": [
       "__Class 1 Precision:__ 30.61%"
      ],
      "text/plain": [
       "<IPython.core.display.Markdown object>"
      ]
     },
     "metadata": {},
     "output_type": "display_data"
    },
    {
     "data": {
      "text/markdown": [
       "__Class 1 Recall:__ 35.40%"
      ],
      "text/plain": [
       "<IPython.core.display.Markdown object>"
      ]
     },
     "metadata": {},
     "output_type": "display_data"
    },
    {
     "data": {
      "text/html": [
       "<div>\n",
       "<style scoped>\n",
       "    .dataframe tbody tr th:only-of-type {\n",
       "        vertical-align: middle;\n",
       "    }\n",
       "\n",
       "    .dataframe tbody tr th {\n",
       "        vertical-align: top;\n",
       "    }\n",
       "\n",
       "    .dataframe thead th {\n",
       "        text-align: right;\n",
       "    }\n",
       "</style>\n",
       "<table border=\"1\" class=\"dataframe\">\n",
       "  <thead>\n",
       "    <tr style=\"text-align: right;\">\n",
       "      <th></th>\n",
       "      <th>Condition Positive</th>\n",
       "      <th>Condition Negative</th>\n",
       "    </tr>\n",
       "  </thead>\n",
       "  <tbody>\n",
       "    <tr>\n",
       "      <td>Positive Prediction</td>\n",
       "      <td>371</td>\n",
       "      <td>841</td>\n",
       "    </tr>\n",
       "    <tr>\n",
       "      <td>Negative Prediction</td>\n",
       "      <td>677</td>\n",
       "      <td>8620</td>\n",
       "    </tr>\n",
       "  </tbody>\n",
       "</table>\n",
       "</div>"
      ],
      "text/plain": [
       "                     Condition Positive  Condition Negative\n",
       "Positive Prediction                 371                 841\n",
       "Negative Prediction                 677                8620"
      ]
     },
     "metadata": {},
     "output_type": "display_data"
    },
    {
     "data": {
      "image/png": "[encoded data removed]",
      "text/plain": [
       "<Figure size 1080x540 with 2 Axes>"
      ]
     },
     "metadata": {
      "needs_background": "light"
     },
     "output_type": "display_data"
    }
   ],
   "source": [
    "data.evaluate(y_pred2[:,0],plot_roc = True)"
   ]
  }
 ],
 "metadata": {
  "kernelspec": {
   "display_name": "Python 3",
   "language": "python",
   "name": "python3"
  },
  "language_info": {
   "codemirror_mode": {
    "name": "ipython",
    "version": 3
   },
   "file_extension": ".py",
   "mimetype": "text/x-python",
   "name": "python",
   "nbconvert_exporter": "python",
   "pygments_lexer": "ipython3",
   "version": "3.7.4"
  }
 },
 "nbformat": 4,
 "nbformat_minor": 4
}
