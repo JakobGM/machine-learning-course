{
 "cells": [
  {
   "cell_type": "markdown",
   "metadata": {},
   "source": [
    "# Lecture 4\n",
    "\n",
    "* Optidigits notebook in day 2 directory should be looked at.\n",
    "* Slide \"Other tools\" feature index vs row index, `x.value_counts()`, `x.isnull()` should be used in report\n",
    "* `pd.scatter_matrix(df)`, `plt.matshow(df.corr(df))`. Group features.\n",
    "* Use test set without labels in exploratory data analysis.\n",
    "* NA values should be replaced with the `MICE` R-package, subshelling out."
   ]
  }
 ],
 "metadata": {
  "kernelspec": {
   "display_name": "Python 3",
   "language": "python",
   "name": "python3"
  },
  "language_info": {
   "codemirror_mode": {
    "name": "ipython",
    "version": 3
   },
   "file_extension": ".py",
   "mimetype": "text/x-python",
   "name": "python",
   "nbconvert_exporter": "python",
   "pygments_lexer": "ipython3",
   "version": "3.7.4"
  }
 },
 "nbformat": 4,
 "nbformat_minor": 4
}
